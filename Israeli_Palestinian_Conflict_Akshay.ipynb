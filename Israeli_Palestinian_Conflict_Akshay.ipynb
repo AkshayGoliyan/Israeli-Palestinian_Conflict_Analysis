{
 "cells": [
  {
   "cell_type": "markdown",
   "id": "948d61cd",
   "metadata": {
    "id": "948d61cd"
   },
   "source": [
    "# Fatalities in the Israeli-Palestinian conflict\n",
    "                                                          by: Akshay Goliyan"
   ]
  },
  {
   "cell_type": "markdown",
   "id": "945c29ab",
   "metadata": {
    "id": "945c29ab"
   },
   "source": [
    "The Israeli-Palestinian conflict dates back to the end of the 19th century. The conflict began with the 1947 United Nations Partition Plan, which sought to divide the British Mandate of Palestine into Arab and Jewish states. The plan was never implemented and provoked the 1947–1949 Palestine War.\n",
    "\n",
    "The current Israeli-Palestinian status quo began after the 1967 Six-Day War, when Israel militarily occupied the West Bank and Gaza. Israel has launched four military assaults on Gaza: in 2008, 2012, 2014, and 2021.\n",
    "\n",
    "Renewed violence in the region started on May 6, 2021, when Palestinians protested against an anticipated decision of the Israeli Supreme Court to evict six Palestinian families from Sheikh Jarrah in occupied East Jerusalem.\n"
   ]
  },
  {
   "cell_type": "markdown",
   "id": "fc24a30d",
   "metadata": {},
   "source": [
    "## I have divided this analysis report into 5 diffrent chapters to make it clear to understand.\n",
    "* Chapter 1: Geospatial Analysis\n",
    "* Chapter 2: Demographic Analysis\n",
    "* Chapter 3: Hostilities Participation Analysis\n",
    "* Chapter 4: Injury Analysis\n",
    "* Chapter 5: Weapons Used\n"
   ]
  },
  {
   "cell_type": "markdown",
   "id": "94be8b04",
   "metadata": {
    "id": "94be8b04"
   },
   "source": [
    "### About Dataset\n",
    "* This dataset records fatalities in the Israeli-Palestinian conflict from 2000 to 2023.\n",
    "* This data is Available at Kaggle.com, named Fatalities in the Israeli-Palestinian which was last Updated on 10-10-2023.\n",
    "https://www.kaggle.com/datasets/willianoliveiragibin/fatalities-in-the-israeli-palestinian"
   ]
  },
  {
   "cell_type": "code",
   "execution_count": 1,
   "id": "b682e526",
   "metadata": {
    "id": "b682e526"
   },
   "outputs": [],
   "source": [
    "# importing necessary libraries\n",
    "import numpy as np\n",
    "import pandas as pd\n",
    "import matplotlib.pyplot as plt\n",
    "import seaborn as sns"
   ]
  },
  {
   "cell_type": "code",
   "execution_count": 2,
   "id": "217f701a",
   "metadata": {
    "id": "217f701a",
    "outputId": "48d82c4c-1f84-4d1f-d63f-43505b16b960",
    "scrolled": true
   },
   "outputs": [
    {
     "data": {
      "text/html": [
       "<div>\n",
       "<style scoped>\n",
       "    .dataframe tbody tr th:only-of-type {\n",
       "        vertical-align: middle;\n",
       "    }\n",
       "\n",
       "    .dataframe tbody tr th {\n",
       "        vertical-align: top;\n",
       "    }\n",
       "\n",
       "    .dataframe thead th {\n",
       "        text-align: right;\n",
       "    }\n",
       "</style>\n",
       "<table border=\"1\" class=\"dataframe\">\n",
       "  <thead>\n",
       "    <tr style=\"text-align: right;\">\n",
       "      <th></th>\n",
       "      <th>name</th>\n",
       "      <th>date_of_event</th>\n",
       "      <th>age</th>\n",
       "      <th>citizenship</th>\n",
       "      <th>event_location</th>\n",
       "      <th>event_location_district</th>\n",
       "      <th>event_location_region</th>\n",
       "      <th>date_of_death</th>\n",
       "      <th>gender</th>\n",
       "      <th>took_part_in_the_hostilities</th>\n",
       "      <th>place_of_residence</th>\n",
       "      <th>place_of_residence_district</th>\n",
       "      <th>type_of_injury</th>\n",
       "      <th>ammunition</th>\n",
       "      <th>killed_by</th>\n",
       "      <th>notes</th>\n",
       "    </tr>\n",
       "  </thead>\n",
       "  <tbody>\n",
       "    <tr>\n",
       "      <th>0</th>\n",
       "      <td>'Abd a-Rahman Suleiman Muhammad Abu Daghash</td>\n",
       "      <td>2023-09-24</td>\n",
       "      <td>32.0</td>\n",
       "      <td>Palestinian</td>\n",
       "      <td>Nur Shams R.C.</td>\n",
       "      <td>Tulkarm</td>\n",
       "      <td>West Bank</td>\n",
       "      <td>2023-09-24</td>\n",
       "      <td>M</td>\n",
       "      <td>NaN</td>\n",
       "      <td>Nur Shams R.C.</td>\n",
       "      <td>Tulkarm</td>\n",
       "      <td>gunfire</td>\n",
       "      <td>live ammunition</td>\n",
       "      <td>Israeli security forces</td>\n",
       "      <td>Fatally shot by Israeli forces while standing ...</td>\n",
       "    </tr>\n",
       "    <tr>\n",
       "      <th>1</th>\n",
       "      <td>Usayed Farhan Muhammad 'Ali Abu 'Ali</td>\n",
       "      <td>2023-09-24</td>\n",
       "      <td>21.0</td>\n",
       "      <td>Palestinian</td>\n",
       "      <td>Nur Shams R.C.</td>\n",
       "      <td>Tulkarm</td>\n",
       "      <td>West Bank</td>\n",
       "      <td>2023-09-24</td>\n",
       "      <td>M</td>\n",
       "      <td>NaN</td>\n",
       "      <td>Nur Shams R.C.</td>\n",
       "      <td>Tulkarm</td>\n",
       "      <td>gunfire</td>\n",
       "      <td>live ammunition</td>\n",
       "      <td>Israeli security forces</td>\n",
       "      <td>Fatally shot by Israeli forces while trying to...</td>\n",
       "    </tr>\n",
       "    <tr>\n",
       "      <th>2</th>\n",
       "      <td>'Abdallah 'Imad Sa'ed Abu Hassan</td>\n",
       "      <td>2023-09-22</td>\n",
       "      <td>16.0</td>\n",
       "      <td>Palestinian</td>\n",
       "      <td>Kfar Dan</td>\n",
       "      <td>Jenin</td>\n",
       "      <td>West Bank</td>\n",
       "      <td>2023-09-22</td>\n",
       "      <td>M</td>\n",
       "      <td>NaN</td>\n",
       "      <td>al-Yamun</td>\n",
       "      <td>Jenin</td>\n",
       "      <td>gunfire</td>\n",
       "      <td>live ammunition</td>\n",
       "      <td>Israeli security forces</td>\n",
       "      <td>Fatally shot by soldiers while firing at them ...</td>\n",
       "    </tr>\n",
       "    <tr>\n",
       "      <th>3</th>\n",
       "      <td>Durgham Muhammad Yihya al-Akhras</td>\n",
       "      <td>2023-09-20</td>\n",
       "      <td>19.0</td>\n",
       "      <td>Palestinian</td>\n",
       "      <td>'Aqbat Jaber R.C.</td>\n",
       "      <td>Jericho</td>\n",
       "      <td>West Bank</td>\n",
       "      <td>2023-09-20</td>\n",
       "      <td>M</td>\n",
       "      <td>NaN</td>\n",
       "      <td>'Aqbat Jaber R.C.</td>\n",
       "      <td>Jericho</td>\n",
       "      <td>gunfire</td>\n",
       "      <td>live ammunition</td>\n",
       "      <td>Israeli security forces</td>\n",
       "      <td>Shot in the head by Israeli forces while throw...</td>\n",
       "    </tr>\n",
       "    <tr>\n",
       "      <th>4</th>\n",
       "      <td>Raafat 'Omar Ahmad Khamaisah</td>\n",
       "      <td>2023-09-19</td>\n",
       "      <td>15.0</td>\n",
       "      <td>Palestinian</td>\n",
       "      <td>Jenin R.C.</td>\n",
       "      <td>Jenin</td>\n",
       "      <td>West Bank</td>\n",
       "      <td>2023-09-19</td>\n",
       "      <td>M</td>\n",
       "      <td>NaN</td>\n",
       "      <td>Jenin</td>\n",
       "      <td>Jenin</td>\n",
       "      <td>gunfire</td>\n",
       "      <td>live ammunition</td>\n",
       "      <td>Israeli security forces</td>\n",
       "      <td>Wounded by soldiers’ gunfire after running awa...</td>\n",
       "    </tr>\n",
       "    <tr>\n",
       "      <th>...</th>\n",
       "      <td>...</td>\n",
       "      <td>...</td>\n",
       "      <td>...</td>\n",
       "      <td>...</td>\n",
       "      <td>...</td>\n",
       "      <td>...</td>\n",
       "      <td>...</td>\n",
       "      <td>...</td>\n",
       "      <td>...</td>\n",
       "      <td>...</td>\n",
       "      <td>...</td>\n",
       "      <td>...</td>\n",
       "      <td>...</td>\n",
       "      <td>...</td>\n",
       "      <td>...</td>\n",
       "      <td>...</td>\n",
       "    </tr>\n",
       "    <tr>\n",
       "      <th>11119</th>\n",
       "      <td>Binyamin Herling</td>\n",
       "      <td>2000-10-19</td>\n",
       "      <td>64.0</td>\n",
       "      <td>Israeli</td>\n",
       "      <td>Nablus</td>\n",
       "      <td>Nablus</td>\n",
       "      <td>West Bank</td>\n",
       "      <td>2000-10-19</td>\n",
       "      <td>M</td>\n",
       "      <td>Israelis</td>\n",
       "      <td>Kedumim</td>\n",
       "      <td>Tulkarm</td>\n",
       "      <td>gunfire</td>\n",
       "      <td>live ammunition</td>\n",
       "      <td>Palestinian civilians</td>\n",
       "      <td>Killed while hiking on Mt. Eival.</td>\n",
       "    </tr>\n",
       "    <tr>\n",
       "      <th>11120</th>\n",
       "      <td>Farid Musa 'Issa a-Nesasreh</td>\n",
       "      <td>2000-10-17</td>\n",
       "      <td>28.0</td>\n",
       "      <td>Palestinian</td>\n",
       "      <td>Beit Furik</td>\n",
       "      <td>Nablus</td>\n",
       "      <td>West Bank</td>\n",
       "      <td>2000-10-17</td>\n",
       "      <td>M</td>\n",
       "      <td>Unknown</td>\n",
       "      <td>Beit Furik</td>\n",
       "      <td>Nablus</td>\n",
       "      <td>gunfire</td>\n",
       "      <td>NaN</td>\n",
       "      <td>Israeli civilians</td>\n",
       "      <td>Killed by a settler from Itamar while harvesti...</td>\n",
       "    </tr>\n",
       "    <tr>\n",
       "      <th>11121</th>\n",
       "      <td>Hillel Lieberman</td>\n",
       "      <td>2000-10-07</td>\n",
       "      <td>36.0</td>\n",
       "      <td>Israeli</td>\n",
       "      <td>Nablus</td>\n",
       "      <td>Nablus</td>\n",
       "      <td>West Bank</td>\n",
       "      <td>2000-10-07</td>\n",
       "      <td>M</td>\n",
       "      <td>Israelis</td>\n",
       "      <td>Elon Moreh</td>\n",
       "      <td>Nablus</td>\n",
       "      <td>gunfire</td>\n",
       "      <td>live ammunition</td>\n",
       "      <td>Palestinian civilians</td>\n",
       "      <td>His body was found a day after he disappeared.</td>\n",
       "    </tr>\n",
       "    <tr>\n",
       "      <th>11122</th>\n",
       "      <td>Fahed Mustafa 'Odeh Baker</td>\n",
       "      <td>2000-10-07</td>\n",
       "      <td>21.0</td>\n",
       "      <td>Palestinian</td>\n",
       "      <td>Bidya</td>\n",
       "      <td>Salfit</td>\n",
       "      <td>West Bank</td>\n",
       "      <td>2000-10-07</td>\n",
       "      <td>M</td>\n",
       "      <td>No</td>\n",
       "      <td>Bidya</td>\n",
       "      <td>Salfit</td>\n",
       "      <td>gunfire</td>\n",
       "      <td>NaN</td>\n",
       "      <td>Israeli civilians</td>\n",
       "      <td>Killed by settlers who rioted in Biddya village.</td>\n",
       "    </tr>\n",
       "    <tr>\n",
       "      <th>11123</th>\n",
       "      <td>Wichlav Zalsevsky</td>\n",
       "      <td>2000-10-02</td>\n",
       "      <td>24.0</td>\n",
       "      <td>Israeli</td>\n",
       "      <td>Masha</td>\n",
       "      <td>Salfit</td>\n",
       "      <td>West Bank</td>\n",
       "      <td>2000-10-02</td>\n",
       "      <td>M</td>\n",
       "      <td>Israelis</td>\n",
       "      <td>Ashdod</td>\n",
       "      <td>Israel</td>\n",
       "      <td>gunfire</td>\n",
       "      <td>live ammunition</td>\n",
       "      <td>Palestinian civilians</td>\n",
       "      <td>NaN</td>\n",
       "    </tr>\n",
       "  </tbody>\n",
       "</table>\n",
       "<p>11124 rows × 16 columns</p>\n",
       "</div>"
      ],
      "text/plain": [
       "                                              name date_of_event   age  \\\n",
       "0      'Abd a-Rahman Suleiman Muhammad Abu Daghash    2023-09-24  32.0   \n",
       "1             Usayed Farhan Muhammad 'Ali Abu 'Ali    2023-09-24  21.0   \n",
       "2                 'Abdallah 'Imad Sa'ed Abu Hassan    2023-09-22  16.0   \n",
       "3                 Durgham Muhammad Yihya al-Akhras    2023-09-20  19.0   \n",
       "4                     Raafat 'Omar Ahmad Khamaisah    2023-09-19  15.0   \n",
       "...                                            ...           ...   ...   \n",
       "11119                             Binyamin Herling    2000-10-19  64.0   \n",
       "11120                  Farid Musa 'Issa a-Nesasreh    2000-10-17  28.0   \n",
       "11121                             Hillel Lieberman    2000-10-07  36.0   \n",
       "11122                    Fahed Mustafa 'Odeh Baker    2000-10-07  21.0   \n",
       "11123                            Wichlav Zalsevsky    2000-10-02  24.0   \n",
       "\n",
       "       citizenship     event_location event_location_district  \\\n",
       "0      Palestinian     Nur Shams R.C.                 Tulkarm   \n",
       "1      Palestinian     Nur Shams R.C.                 Tulkarm   \n",
       "2      Palestinian           Kfar Dan                   Jenin   \n",
       "3      Palestinian  'Aqbat Jaber R.C.                 Jericho   \n",
       "4      Palestinian         Jenin R.C.                   Jenin   \n",
       "...            ...                ...                     ...   \n",
       "11119      Israeli             Nablus                  Nablus   \n",
       "11120  Palestinian         Beit Furik                  Nablus   \n",
       "11121      Israeli             Nablus                  Nablus   \n",
       "11122  Palestinian              Bidya                  Salfit   \n",
       "11123      Israeli              Masha                  Salfit   \n",
       "\n",
       "      event_location_region date_of_death gender took_part_in_the_hostilities  \\\n",
       "0                 West Bank    2023-09-24      M                          NaN   \n",
       "1                 West Bank    2023-09-24      M                          NaN   \n",
       "2                 West Bank    2023-09-22      M                          NaN   \n",
       "3                 West Bank    2023-09-20      M                          NaN   \n",
       "4                 West Bank    2023-09-19      M                          NaN   \n",
       "...                     ...           ...    ...                          ...   \n",
       "11119             West Bank    2000-10-19      M                     Israelis   \n",
       "11120             West Bank    2000-10-17      M                      Unknown   \n",
       "11121             West Bank    2000-10-07      M                     Israelis   \n",
       "11122             West Bank    2000-10-07      M                           No   \n",
       "11123             West Bank    2000-10-02      M                     Israelis   \n",
       "\n",
       "      place_of_residence place_of_residence_district type_of_injury  \\\n",
       "0         Nur Shams R.C.                     Tulkarm        gunfire   \n",
       "1         Nur Shams R.C.                     Tulkarm        gunfire   \n",
       "2               al-Yamun                       Jenin        gunfire   \n",
       "3      'Aqbat Jaber R.C.                     Jericho        gunfire   \n",
       "4                  Jenin                       Jenin        gunfire   \n",
       "...                  ...                         ...            ...   \n",
       "11119            Kedumim                     Tulkarm        gunfire   \n",
       "11120         Beit Furik                      Nablus        gunfire   \n",
       "11121         Elon Moreh                      Nablus        gunfire   \n",
       "11122              Bidya                      Salfit        gunfire   \n",
       "11123             Ashdod                      Israel        gunfire   \n",
       "\n",
       "            ammunition                killed_by  \\\n",
       "0      live ammunition  Israeli security forces   \n",
       "1      live ammunition  Israeli security forces   \n",
       "2      live ammunition  Israeli security forces   \n",
       "3      live ammunition  Israeli security forces   \n",
       "4      live ammunition  Israeli security forces   \n",
       "...                ...                      ...   \n",
       "11119  live ammunition    Palestinian civilians   \n",
       "11120              NaN        Israeli civilians   \n",
       "11121  live ammunition    Palestinian civilians   \n",
       "11122              NaN        Israeli civilians   \n",
       "11123  live ammunition    Palestinian civilians   \n",
       "\n",
       "                                                   notes  \n",
       "0      Fatally shot by Israeli forces while standing ...  \n",
       "1      Fatally shot by Israeli forces while trying to...  \n",
       "2      Fatally shot by soldiers while firing at them ...  \n",
       "3      Shot in the head by Israeli forces while throw...  \n",
       "4      Wounded by soldiers’ gunfire after running awa...  \n",
       "...                                                  ...  \n",
       "11119                  Killed while hiking on Mt. Eival.  \n",
       "11120  Killed by a settler from Itamar while harvesti...  \n",
       "11121     His body was found a day after he disappeared.  \n",
       "11122   Killed by settlers who rioted in Biddya village.  \n",
       "11123                                                NaN  \n",
       "\n",
       "[11124 rows x 16 columns]"
      ]
     },
     "execution_count": 2,
     "metadata": {},
     "output_type": "execute_result"
    }
   ],
   "source": [
    "df = pd.read_csv(r\"D:\\DATA_ANALYSIS\\fatalities_isr_pse_conflict_2000_to_2023.csv\")\n",
    "df"
   ]
  },
  {
   "cell_type": "code",
   "execution_count": 3,
   "id": "87463bda",
   "metadata": {
    "id": "87463bda",
    "outputId": "c6a5e015-bfdf-4973-b93a-bac5e7f7c1ca"
   },
   "outputs": [
    {
     "data": {
      "text/plain": [
       "(11124, 16)"
      ]
     },
     "execution_count": 3,
     "metadata": {},
     "output_type": "execute_result"
    }
   ],
   "source": [
    "df.shape"
   ]
  },
  {
   "cell_type": "code",
   "execution_count": 4,
   "id": "5cc778ab",
   "metadata": {
    "id": "5cc778ab",
    "outputId": "8722fb85-b571-486e-bda7-496943922635"
   },
   "outputs": [
    {
     "data": {
      "text/plain": [
       "Index(['name', 'date_of_event', 'age', 'citizenship', 'event_location',\n",
       "       'event_location_district', 'event_location_region', 'date_of_death',\n",
       "       'gender', 'took_part_in_the_hostilities', 'place_of_residence',\n",
       "       'place_of_residence_district', 'type_of_injury', 'ammunition',\n",
       "       'killed_by', 'notes'],\n",
       "      dtype='object')"
      ]
     },
     "execution_count": 4,
     "metadata": {},
     "output_type": "execute_result"
    }
   ],
   "source": [
    "df.columns"
   ]
  },
  {
   "cell_type": "markdown",
   "id": "1dafba47",
   "metadata": {
    "id": "1dafba47"
   },
   "source": [
    "### This data has 11124 entries in it with 16 different informational aspects about the fatalities in the Israeli-Palestinian conflict."
   ]
  },
  {
   "cell_type": "code",
   "execution_count": 5,
   "id": "4684d75f",
   "metadata": {
    "id": "4684d75f",
    "outputId": "7227cc0e-9ae0-4a16-9c73-c5ef3e0d4afa"
   },
   "outputs": [
    {
     "data": {
      "text/plain": [
       "name                            11083\n",
       "date_of_event                    2405\n",
       "age                                95\n",
       "citizenship                         4\n",
       "event_location                    494\n",
       "event_location_district            20\n",
       "event_location_region               3\n",
       "date_of_death                    2593\n",
       "gender                              2\n",
       "took_part_in_the_hostilities        5\n",
       "place_of_residence                580\n",
       "place_of_residence_district        20\n",
       "type_of_injury                     13\n",
       "ammunition                         21\n",
       "killed_by                           3\n",
       "notes                            6744\n",
       "dtype: int64"
      ]
     },
     "execution_count": 5,
     "metadata": {},
     "output_type": "execute_result"
    }
   ],
   "source": [
    "df.nunique()"
   ]
  },
  {
   "cell_type": "markdown",
   "id": "d598fa28",
   "metadata": {
    "id": "d598fa28"
   },
   "source": [
    "### In this data we have 11,083 individuals who were killed due to the conflicts between Isreal-Palestine in last 22 years."
   ]
  },
  {
   "cell_type": "code",
   "execution_count": 6,
   "id": "e38846ab",
   "metadata": {
    "id": "e38846ab",
    "outputId": "55afa2da-cc47-4615-9747-f3961eefda15"
   },
   "outputs": [
    {
     "data": {
      "text/plain": [
       "Index(['year', 'month', 'day', 'day_of_week'], dtype='object')"
      ]
     },
     "execution_count": 6,
     "metadata": {},
     "output_type": "execute_result"
    }
   ],
   "source": [
    "from datetime import datetime as dt\n",
    "df[\"date_of_event\"]=pd.to_datetime(df[\"date_of_event\"], dayfirst= True)\n",
    "df[\"year\"]=df[\"date_of_event\"].dt.year\n",
    "df[\"month\"]=df[\"date_of_event\"].dt.month\n",
    "df[\"day\"]=df[\"date_of_event\"].dt.day\n",
    "df[\"day_of_week\"]=df[\"date_of_event\"].dt.dayofweek\n",
    "df['day_of_week'] = df['day_of_week'].map({\n",
    "    0: 'Monday',\n",
    "    1: 'Tuesday',\n",
    "    2: 'Wednesday',\n",
    "    3: 'Thursday',\n",
    "    4: 'Friday',\n",
    "    5: 'Saturday',\n",
    "    6: 'Sunday'\n",
    "})\n",
    "df.columns[16:]"
   ]
  },
  {
   "cell_type": "markdown",
   "id": "1e1a6e70",
   "metadata": {
    "id": "1e1a6e70"
   },
   "source": [
    " Here i have made dates and days more specific which will help us get a better understanding about the frequency of killings in the conflict."
   ]
  },
  {
   "cell_type": "markdown",
   "id": "04255afe",
   "metadata": {
    "id": "04255afe"
   },
   "source": [
    "# Chapter 1: Geospatial Analysis"
   ]
  },
  {
   "cell_type": "code",
   "execution_count": 7,
   "id": "92fac094",
   "metadata": {
    "id": "92fac094",
    "outputId": "b25031f6-4074-49d5-874b-268e688daab1"
   },
   "outputs": [
    {
     "data": {
      "text/plain": [
       "array(['Palestinian', 'Israeli', 'Jordanian', 'American'], dtype=object)"
      ]
     },
     "execution_count": 7,
     "metadata": {},
     "output_type": "execute_result"
    }
   ],
   "source": [
    "df[\"citizenship\"].unique()"
   ]
  },
  {
   "cell_type": "markdown",
   "id": "e739cbaa",
   "metadata": {
    "id": "e739cbaa"
   },
   "source": [
    "### This data consits of 4 different Class of Citizens:-\n",
    "* Palestinian\n",
    "* Israeli\n",
    "* Jordanian\n",
    "* American"
   ]
  },
  {
   "cell_type": "code",
   "execution_count": 8,
   "id": "2a63937f",
   "metadata": {
    "id": "2a63937f",
    "outputId": "2826b871-431b-48ba-f48b-cf8dbb479fd4",
    "scrolled": false
   },
   "outputs": [
    {
     "data": {
      "text/plain": [
       "event_location_district\n",
       "Gaza                       2435\n",
       "North Gaza                 1910\n",
       "Khan Yunis                 1394\n",
       "Rafah                      1066\n",
       "Deir al-Balah               854\n",
       "Israel                      679\n",
       "Nablus                      647\n",
       "Jenin                       512\n",
       "Ramallah and al-Bira        350\n",
       "Hebron                      347\n",
       "Tulkarm                     254\n",
       "Bethlehem                   186\n",
       "East Jerusalem              130\n",
       "al-Quds                      85\n",
       "Gush Katif                   70\n",
       "Qalqiliya                    65\n",
       "Tubas                        52\n",
       "Jericho                      48\n",
       "Salfit                       36\n",
       "Gaza Strip                    4\n",
       "dtype: int64"
      ]
     },
     "execution_count": 8,
     "metadata": {},
     "output_type": "execute_result"
    }
   ],
   "source": [
    "df[[\"event_location_district\"]].value_counts()"
   ]
  },
  {
   "cell_type": "markdown",
   "id": "86483ccd",
   "metadata": {
    "id": "86483ccd"
   },
   "source": [
    "### In the entrire fatalities data, it is observed that the maximum imapct of the in incident was in the GAZA area.\n",
    "Including:-\n",
    "* CENTRAL Gaza.\n",
    "* NORTHERN Gaza.\n",
    "* Khan Yunis, SOUTHERN Gaza Strip.\n",
    "* Rafah, located in SOUTH-WEST of Gaza City.\n",
    "* Deir al-Balah, central Gaza Strip.\n",
    "\n",
    "In the top 5 positions before ISRAEL"
   ]
  },
  {
   "cell_type": "code",
   "execution_count": 9,
   "id": "735ef1fb",
   "metadata": {
    "id": "735ef1fb",
    "outputId": "4f41636a-6ccf-4981-fb6f-f988ed46a29b"
   },
   "outputs": [
    {
     "data": {
      "image/png": "[encoded data removed]",
      "text/plain": [
       "<Figure size 640x480 with 1 Axes>"
      ]
     },
     "metadata": {},
     "output_type": "display_data"
    }
   ],
   "source": [
    "lr=df[\"event_location_region\"].value_counts()\n",
    "lr.plot(kind=\"bar\", color=[\"r\",\"orange\",\"b\"])\n",
    "plt.title(\"Regional Fatalities\")\n",
    "plt.ylabel(\"Incident Count\")\n",
    "plt.xlabel(\"Region\")\n",
    "plt.xticks(rotation = 30)\n",
    "plt.show()"
   ]
  },
  {
   "cell_type": "markdown",
   "id": "f855bc8d",
   "metadata": {
    "id": "f855bc8d"
   },
   "source": [
    "### Here, maximum fatalities happend in Gaza Strip(7733) & West Bank(2712)"
   ]
  },
  {
   "cell_type": "markdown",
   "id": "395a6fda",
   "metadata": {
    "id": "395a6fda"
   },
   "source": [
    "# Chapter 2: Demographic Analysis"
   ]
  },
  {
   "cell_type": "code",
   "execution_count": 10,
   "id": "3a596cb4",
   "metadata": {
    "id": "3a596cb4",
    "outputId": "e4be873c-d9a9-4333-cad7-c1c3a78dffc9"
   },
   "outputs": [
    {
     "data": {
      "text/plain": [
       "year\n",
       "2014    2332\n",
       "2002    1325\n",
       "2009    1045\n",
       "2004     928\n",
       "2008     915\n",
       "2003     733\n",
       "2006     684\n",
       "2007     395\n",
       "2001     353\n",
       "2021     325\n",
       "2018     302\n",
       "2012     261\n",
       "2023     249\n",
       "2005     234\n",
       "2022     205\n",
       "2015     177\n",
       "2019     145\n",
       "2011     129\n",
       "2016     116\n",
       "2010      89\n",
       "2017      76\n",
       "2013      41\n",
       "2000      35\n",
       "2020      30\n",
       "dtype: int64"
      ]
     },
     "execution_count": 10,
     "metadata": {},
     "output_type": "execute_result"
    }
   ],
   "source": [
    "df[[\"year\"]].value_counts()"
   ]
  },
  {
   "cell_type": "markdown",
   "id": "ef4d46a6",
   "metadata": {},
   "source": [
    "### Here we can see that the maximum incidents of Fatalities are counted in year 2014. then 2002 and then 2009. These are the datas at the time of Military Assaults of Isreal on Gaza."
   ]
  },
  {
   "cell_type": "code",
   "execution_count": 11,
   "id": "b782bac8",
   "metadata": {
    "id": "b782bac8",
    "outputId": "6ed70bc1-5af6-4bc4-cea7-4ba3a1985a76"
   },
   "outputs": [
    {
     "data": {
      "image/png": "[encoded data removed]",
      "text/plain": [
       "<Figure size 640x480 with 1 Axes>"
      ]
     },
     "metadata": {},
     "output_type": "display_data"
    }
   ],
   "source": [
    "y= df[\"year\"].value_counts( sort= False).tolist()\n",
    "x= df[\"year\"].unique()\n",
    "sns.barplot(x = x,y= y, data = df, edgecolor=\"black\")\n",
    "plt.xlabel(\"Year\", fontsize=12)\n",
    "plt.ylabel(\"Incident Count\",fontsize=12)\n",
    "plt.xticks(rotation = 90)\n",
    "plt.grid(linestyle=\"dashed\")\n",
    "plt.tight_layout()\n",
    "plt.show()"
   ]
  },
  {
   "cell_type": "markdown",
   "id": "482a99bd",
   "metadata": {
    "id": "482a99bd"
   },
   "source": [
    "### 2014 had the maximum incident count due to Gaza War.\n",
    "\n",
    "#### Whereas 2020 had the lowest incident count, probably due to COVID pandamic i believe."
   ]
  },
  {
   "cell_type": "markdown",
   "id": "f6e46324",
   "metadata": {
    "id": "f6e46324"
   },
   "source": [
    "# Gaza war 2014\n",
    "#### * Here, most deaths were in the year 2014. In 2014, there was a huge confict called the \"Gaza War, 2014\" which took place betwen Isreal and Palestine. It continued for over 50 days.\n",
    "#### * During the 50 days of hostilities, lasting from 8 July to 26 August 2014, 2,251 Palestinians were killed; 1,462 of them believed to be civilians, including 551 children and 299 women.\n",
    "#### * 66 Israeli soldiers and five civilians, including one child, were also killed."
   ]
  },
  {
   "cell_type": "code",
   "execution_count": 12,
   "id": "ecaeabd3",
   "metadata": {
    "id": "ecaeabd3",
    "outputId": "6d1b4a68-145e-4434-fa5e-e474cd8126a3",
    "scrolled": false
   },
   "outputs": [
    {
     "name": "stdout",
     "output_type": "stream",
     "text": [
      "Palestinian    2272\n",
      "Israeli          59\n",
      "Jordanian         1\n",
      "Name: citizenship, dtype: int64\n"
     ]
    },
    {
     "data": {
      "image/png": "[encoded data removed]",
      "text/plain": [
       "<Figure size 640x480 with 1 Axes>"
      ]
     },
     "metadata": {},
     "output_type": "display_data"
    }
   ],
   "source": [
    "war=df.loc[df[\"year\"]==2014]\n",
    "war[\"citizenship\"].value_counts().plot(kind= \"barh\", color=[\"r\",\"b\",\"y\"])\n",
    "print(war[\"citizenship\"].value_counts())\n",
    "plt.title(\"Citizens death count in 2014 war\")\n",
    "plt.xlabel(\"No. of People died\")\n",
    "plt.ylabel(\"Citizenship\")\n",
    "plt.show()"
   ]
  },
  {
   "cell_type": "code",
   "execution_count": 13,
   "id": "d1ddf1ce",
   "metadata": {
    "id": "d1ddf1ce",
    "outputId": "b0c37d03-c95c-4d99-b437-ad22de88e2fb"
   },
   "outputs": [
    {
     "name": "stdout",
     "output_type": "stream",
     "text": [
      "M    1837\n",
      "F     495\n",
      "Name: gender, dtype: int64\n"
     ]
    },
    {
     "data": {
      "text/html": [
       "<div>\n",
       "<style scoped>\n",
       "    .dataframe tbody tr th:only-of-type {\n",
       "        vertical-align: middle;\n",
       "    }\n",
       "\n",
       "    .dataframe tbody tr th {\n",
       "        vertical-align: top;\n",
       "    }\n",
       "\n",
       "    .dataframe thead th {\n",
       "        text-align: right;\n",
       "    }\n",
       "</style>\n",
       "<table border=\"1\" class=\"dataframe\">\n",
       "  <thead>\n",
       "    <tr style=\"text-align: right;\">\n",
       "      <th></th>\n",
       "      <th>name</th>\n",
       "      <th>age</th>\n",
       "      <th>gender</th>\n",
       "      <th>date_of_death</th>\n",
       "      <th>citizenship</th>\n",
       "      <th>killed_by</th>\n",
       "      <th>notes</th>\n",
       "    </tr>\n",
       "  </thead>\n",
       "  <tbody>\n",
       "    <tr>\n",
       "      <th>1625</th>\n",
       "      <td>Imam Jamil Ahmad Dweikat</td>\n",
       "      <td>16.0</td>\n",
       "      <td>M</td>\n",
       "      <td>2014-12-29</td>\n",
       "      <td>Palestinian</td>\n",
       "      <td>Israeli security forces</td>\n",
       "      <td>Shot in the back by a soldier stationed in an ...</td>\n",
       "    </tr>\n",
       "    <tr>\n",
       "      <th>1626</th>\n",
       "      <td>Taysir Yusef Muslem a-Smeiri</td>\n",
       "      <td>34.0</td>\n",
       "      <td>M</td>\n",
       "      <td>2014-12-24</td>\n",
       "      <td>Palestinian</td>\n",
       "      <td>Israeli security forces</td>\n",
       "      <td>Killed outside his home, located approximately...</td>\n",
       "    </tr>\n",
       "    <tr>\n",
       "      <th>1627</th>\n",
       "      <td>Mahmoud 'Abdallah Muhammad Dar 'Udwan</td>\n",
       "      <td>21.0</td>\n",
       "      <td>M</td>\n",
       "      <td>2014-12-16</td>\n",
       "      <td>Palestinian</td>\n",
       "      <td>Israeli security forces</td>\n",
       "      <td>Shot in the head by soldiers from an undercove...</td>\n",
       "    </tr>\n",
       "    <tr>\n",
       "      <th>1628</th>\n",
       "      <td>Fadel Muhammad Muhammad Halawah</td>\n",
       "      <td>32.0</td>\n",
       "      <td>M</td>\n",
       "      <td>2014-11-23</td>\n",
       "      <td>Palestinian</td>\n",
       "      <td>Israeli security forces</td>\n",
       "      <td>Shot in the back by soldiers while he and anot...</td>\n",
       "    </tr>\n",
       "    <tr>\n",
       "      <th>1629</th>\n",
       "      <td>Haim Yehiel Rotman</td>\n",
       "      <td>55.0</td>\n",
       "      <td>M</td>\n",
       "      <td>2015-10-24</td>\n",
       "      <td>Israeli</td>\n",
       "      <td>Palestinian civilians</td>\n",
       "      <td>Fatally wounded by gunfire and stab wounds inf...</td>\n",
       "    </tr>\n",
       "    <tr>\n",
       "      <th>...</th>\n",
       "      <td>...</td>\n",
       "      <td>...</td>\n",
       "      <td>...</td>\n",
       "      <td>...</td>\n",
       "      <td>...</td>\n",
       "      <td>...</td>\n",
       "      <td>...</td>\n",
       "    </tr>\n",
       "    <tr>\n",
       "      <th>3952</th>\n",
       "      <td>Muhammad Mahmoud 'Abd al-'Aziz Mubarak</td>\n",
       "      <td>20.0</td>\n",
       "      <td>M</td>\n",
       "      <td>2014-01-29</td>\n",
       "      <td>Palestinian</td>\n",
       "      <td>Israeli security forces</td>\n",
       "      <td>Shot by soldiers. According to the military, t...</td>\n",
       "    </tr>\n",
       "    <tr>\n",
       "      <th>3953</th>\n",
       "      <td>Bilal Samir Ahmad 'Aweidah</td>\n",
       "      <td>19.0</td>\n",
       "      <td>M</td>\n",
       "      <td>2014-01-24</td>\n",
       "      <td>Palestinian</td>\n",
       "      <td>Israeli security forces</td>\n",
       "      <td>Shot several meters away from the Gaza perimet...</td>\n",
       "    </tr>\n",
       "    <tr>\n",
       "      <th>3954</th>\n",
       "      <td>Muhammad Yusef Ahmad a-Z'anin</td>\n",
       "      <td>23.0</td>\n",
       "      <td>M</td>\n",
       "      <td>2014-01-22</td>\n",
       "      <td>Palestinian</td>\n",
       "      <td>Israeli security forces</td>\n",
       "      <td>Killed sitting outside the home of Ahmad a-Z’a...</td>\n",
       "    </tr>\n",
       "    <tr>\n",
       "      <th>3955</th>\n",
       "      <td>Ahmad Muhammad Jum'ah Khalil a-Z'anin</td>\n",
       "      <td>21.0</td>\n",
       "      <td>M</td>\n",
       "      <td>2014-01-22</td>\n",
       "      <td>Palestinian</td>\n",
       "      <td>Israeli security forces</td>\n",
       "      <td>Killed while sitting outside his home with ano...</td>\n",
       "    </tr>\n",
       "    <tr>\n",
       "      <th>3956</th>\n",
       "      <td>'Adnan Jamil Shehdeh Abu Khater</td>\n",
       "      <td>16.0</td>\n",
       "      <td>M</td>\n",
       "      <td>2014-01-03</td>\n",
       "      <td>Palestinian</td>\n",
       "      <td>Israeli security forces</td>\n",
       "      <td>Shot near the Gaza perimeter fence. Military o...</td>\n",
       "    </tr>\n",
       "  </tbody>\n",
       "</table>\n",
       "<p>2332 rows × 7 columns</p>\n",
       "</div>"
      ],
      "text/plain": [
       "                                        name   age gender date_of_death  \\\n",
       "1625                Imam Jamil Ahmad Dweikat  16.0      M    2014-12-29   \n",
       "1626            Taysir Yusef Muslem a-Smeiri  34.0      M    2014-12-24   \n",
       "1627   Mahmoud 'Abdallah Muhammad Dar 'Udwan  21.0      M    2014-12-16   \n",
       "1628         Fadel Muhammad Muhammad Halawah  32.0      M    2014-11-23   \n",
       "1629                      Haim Yehiel Rotman  55.0      M    2015-10-24   \n",
       "...                                      ...   ...    ...           ...   \n",
       "3952  Muhammad Mahmoud 'Abd al-'Aziz Mubarak  20.0      M    2014-01-29   \n",
       "3953              Bilal Samir Ahmad 'Aweidah  19.0      M    2014-01-24   \n",
       "3954           Muhammad Yusef Ahmad a-Z'anin  23.0      M    2014-01-22   \n",
       "3955   Ahmad Muhammad Jum'ah Khalil a-Z'anin  21.0      M    2014-01-22   \n",
       "3956         'Adnan Jamil Shehdeh Abu Khater  16.0      M    2014-01-03   \n",
       "\n",
       "      citizenship                killed_by  \\\n",
       "1625  Palestinian  Israeli security forces   \n",
       "1626  Palestinian  Israeli security forces   \n",
       "1627  Palestinian  Israeli security forces   \n",
       "1628  Palestinian  Israeli security forces   \n",
       "1629      Israeli    Palestinian civilians   \n",
       "...           ...                      ...   \n",
       "3952  Palestinian  Israeli security forces   \n",
       "3953  Palestinian  Israeli security forces   \n",
       "3954  Palestinian  Israeli security forces   \n",
       "3955  Palestinian  Israeli security forces   \n",
       "3956  Palestinian  Israeli security forces   \n",
       "\n",
       "                                                  notes  \n",
       "1625  Shot in the back by a soldier stationed in an ...  \n",
       "1626  Killed outside his home, located approximately...  \n",
       "1627  Shot in the head by soldiers from an undercove...  \n",
       "1628  Shot in the back by soldiers while he and anot...  \n",
       "1629  Fatally wounded by gunfire and stab wounds inf...  \n",
       "...                                                 ...  \n",
       "3952  Shot by soldiers. According to the military, t...  \n",
       "3953  Shot several meters away from the Gaza perimet...  \n",
       "3954  Killed sitting outside the home of Ahmad a-Z’a...  \n",
       "3955  Killed while sitting outside his home with ano...  \n",
       "3956  Shot near the Gaza perimeter fence. Military o...  \n",
       "\n",
       "[2332 rows x 7 columns]"
      ]
     },
     "execution_count": 13,
     "metadata": {},
     "output_type": "execute_result"
    }
   ],
   "source": [
    "print(war[\"gender\"].value_counts())\n",
    "war[[\"name\", \"age\",\"gender\", \"date_of_death\", \"citizenship\", \"killed_by\",\"notes\"]]"
   ]
  },
  {
   "cell_type": "markdown",
   "id": "c6e40c5b",
   "metadata": {
    "id": "c6e40c5b"
   },
   "source": [
    "### In the 2014 war, a total of 2,332 people died in which 1,837 were males and 495 were females, including children."
   ]
  },
  {
   "cell_type": "code",
   "execution_count": 14,
   "id": "5c1a59e6",
   "metadata": {
    "id": "5c1a59e6",
    "outputId": "c5a541fa-ade9-4c6e-cf89-b585800b1d50"
   },
   "outputs": [
    {
     "data": {
      "image/png": "[encoded data removed]",
      "text/plain": [
       "<Figure size 640x480 with 1 Axes>"
      ]
     },
     "metadata": {},
     "output_type": "display_data"
    }
   ],
   "source": [
    "war[\"gender\"].value_counts().plot(kind = \"pie\", autopct= \"%1.2f%%\", shadow= True, explode =[0.09,0])\n",
    "plt.legend([\"Male\",\"Female\"])\n",
    "plt.title(\"Fatalities in 2014 war\")\n",
    "plt.show()"
   ]
  },
  {
   "cell_type": "code",
   "execution_count": 15,
   "id": "43c8f01c",
   "metadata": {
    "id": "43c8f01c",
    "outputId": "c1138638-5c9b-4887-bcd5-1be3a7e2b28e"
   },
   "outputs": [
    {
     "data": {
      "text/plain": [
       "439"
      ]
     },
     "execution_count": 15,
     "metadata": {},
     "output_type": "execute_result"
    }
   ],
   "source": [
    "war_child= war[\"age\"].loc[war[\"age\"]<=15]\n",
    "war_child.value_counts().sum()"
   ]
  },
  {
   "cell_type": "markdown",
   "id": "b6172fd6",
   "metadata": {
    "id": "b6172fd6"
   },
   "source": [
    "### Here, we found that in 2014, 439 children, who were below 15 years of age, died."
   ]
  },
  {
   "cell_type": "markdown",
   "id": "6645a6a5",
   "metadata": {
    "id": "6645a6a5"
   },
   "source": [
    "# Now lets talk about Overall data, from 2000 to 2023"
   ]
  },
  {
   "cell_type": "markdown",
   "id": "6496f6d5",
   "metadata": {
    "id": "6496f6d5"
   },
   "source": [
    "OLDEST"
   ]
  },
  {
   "cell_type": "code",
   "execution_count": 16,
   "id": "f8a39e0b",
   "metadata": {
    "id": "f8a39e0b",
    "outputId": "bd65392c-e943-4be0-892b-c51e8e748b86",
    "scrolled": true
   },
   "outputs": [
    {
     "data": {
      "text/html": [
       "<div>\n",
       "<style scoped>\n",
       "    .dataframe tbody tr th:only-of-type {\n",
       "        vertical-align: middle;\n",
       "    }\n",
       "\n",
       "    .dataframe tbody tr th {\n",
       "        vertical-align: top;\n",
       "    }\n",
       "\n",
       "    .dataframe thead th {\n",
       "        text-align: right;\n",
       "    }\n",
       "</style>\n",
       "<table border=\"1\" class=\"dataframe\">\n",
       "  <thead>\n",
       "    <tr style=\"text-align: right;\">\n",
       "      <th></th>\n",
       "      <th>name</th>\n",
       "      <th>age</th>\n",
       "      <th>gender</th>\n",
       "      <th>date_of_death</th>\n",
       "      <th>citizenship</th>\n",
       "      <th>killed_by</th>\n",
       "      <th>notes</th>\n",
       "    </tr>\n",
       "  </thead>\n",
       "  <tbody>\n",
       "    <tr>\n",
       "      <th>2597</th>\n",
       "      <td>'Aliyyah Hussein Muhammad Qanan</td>\n",
       "      <td>112.0</td>\n",
       "      <td>F</td>\n",
       "      <td>2014-08-02</td>\n",
       "      <td>Palestinian</td>\n",
       "      <td>Israeli security forces</td>\n",
       "      <td>Injured while searching for his brother how ha...</td>\n",
       "    </tr>\n",
       "  </tbody>\n",
       "</table>\n",
       "</div>"
      ],
      "text/plain": [
       "                                 name    age gender date_of_death  \\\n",
       "2597  'Aliyyah Hussein Muhammad Qanan  112.0      F    2014-08-02   \n",
       "\n",
       "      citizenship                killed_by  \\\n",
       "2597  Palestinian  Israeli security forces   \n",
       "\n",
       "                                                  notes  \n",
       "2597  Injured while searching for his brother how ha...  "
      ]
     },
     "execution_count": 16,
     "metadata": {},
     "output_type": "execute_result"
    }
   ],
   "source": [
    "max=df.loc[df[\"age\"]==df[\"age\"].max()]\n",
    "max[[\"name\", \"age\",\"gender\", \"date_of_death\", \"citizenship\", \"killed_by\",\"notes\"]]"
   ]
  },
  {
   "cell_type": "markdown",
   "id": "2c0e762e",
   "metadata": {
    "id": "2c0e762e"
   },
   "source": [
    "\n",
    "\n",
    "### The oldest person to die was a Female citizen of Palestine who was 112 years old and she was killed by \"Israeli security forces\" according to data."
   ]
  },
  {
   "cell_type": "markdown",
   "id": "bae50f4b",
   "metadata": {
    "id": "bae50f4b"
   },
   "source": [
    "YOUNGEST"
   ]
  },
  {
   "cell_type": "code",
   "execution_count": 17,
   "id": "3942816a",
   "metadata": {
    "id": "3942816a",
    "outputId": "48d64947-05a1-48b3-b935-302a711f38bd",
    "scrolled": true
   },
   "outputs": [
    {
     "name": "stdout",
     "output_type": "stream",
     "text": [
      "Total no. of Infants died: 59 \n",
      " M    30\n",
      "F    29\n",
      "Name: gender, dtype: int64\n"
     ]
    },
    {
     "data": {
      "text/html": [
       "<div>\n",
       "<style scoped>\n",
       "    .dataframe tbody tr th:only-of-type {\n",
       "        vertical-align: middle;\n",
       "    }\n",
       "\n",
       "    .dataframe tbody tr th {\n",
       "        vertical-align: top;\n",
       "    }\n",
       "\n",
       "    .dataframe thead th {\n",
       "        text-align: right;\n",
       "    }\n",
       "</style>\n",
       "<table border=\"1\" class=\"dataframe\">\n",
       "  <thead>\n",
       "    <tr style=\"text-align: right;\">\n",
       "      <th></th>\n",
       "      <th>name</th>\n",
       "      <th>age</th>\n",
       "      <th>gender</th>\n",
       "      <th>date_of_death</th>\n",
       "      <th>citizenship</th>\n",
       "      <th>killed_by</th>\n",
       "      <th>notes</th>\n",
       "    </tr>\n",
       "  </thead>\n",
       "  <tbody>\n",
       "    <tr>\n",
       "      <th>815</th>\n",
       "      <td>Firas Rasmi Salem a-Sawarkah</td>\n",
       "      <td>1.0</td>\n",
       "      <td>M</td>\n",
       "      <td>2019-11-14</td>\n",
       "      <td>Palestinian</td>\n",
       "      <td>Israeli security forces</td>\n",
       "      <td>Killed along with his parents and two of his m...</td>\n",
       "    </tr>\n",
       "    <tr>\n",
       "      <th>1053</th>\n",
       "      <td>Bayan Muhammad Kamel Abu Khamash</td>\n",
       "      <td>1.0</td>\n",
       "      <td>F</td>\n",
       "      <td>2018-08-09</td>\n",
       "      <td>Palestinian</td>\n",
       "      <td>Israeli security forces</td>\n",
       "      <td>Killed with her mother, who was in advanced st...</td>\n",
       "    </tr>\n",
       "    <tr>\n",
       "      <th>1600</th>\n",
       "      <td>'Ali Sa'ed Muhammad Dawabsheh</td>\n",
       "      <td>1.0</td>\n",
       "      <td>M</td>\n",
       "      <td>2015-07-31</td>\n",
       "      <td>Palestinian</td>\n",
       "      <td>Israeli civilians</td>\n",
       "      <td>Killed when his house was torched. His parents...</td>\n",
       "    </tr>\n",
       "    <tr>\n",
       "      <th>1691</th>\n",
       "      <td>Zeinah Bilal Sabri Abu Taqiyah</td>\n",
       "      <td>1.0</td>\n",
       "      <td>F</td>\n",
       "      <td>2014-08-24</td>\n",
       "      <td>Palestinian</td>\n",
       "      <td>Israeli security forces</td>\n",
       "      <td>Killed seated in a swing at the entrance to he...</td>\n",
       "    </tr>\n",
       "    <tr>\n",
       "      <th>1703</th>\n",
       "      <td>Hadi Hayel Shehdeh Abu Dahruj</td>\n",
       "      <td>1.0</td>\n",
       "      <td>M</td>\n",
       "      <td>2014-08-23</td>\n",
       "      <td>Palestinian</td>\n",
       "      <td>Israeli security forces</td>\n",
       "      <td>Killed with his parents and brother when their...</td>\n",
       "    </tr>\n",
       "    <tr>\n",
       "      <th>1948</th>\n",
       "      <td>Maria Muhammad 'Awwad Abu Jazar</td>\n",
       "      <td>1.0</td>\n",
       "      <td>F</td>\n",
       "      <td>2014-08-03</td>\n",
       "      <td>Palestinian</td>\n",
       "      <td>Israeli security forces</td>\n",
       "      <td>Killed together with her mother and brother in...</td>\n",
       "    </tr>\n",
       "    <tr>\n",
       "      <th>2148</th>\n",
       "      <td>Yusef Ahmad Salem Madi</td>\n",
       "      <td>1.0</td>\n",
       "      <td>M</td>\n",
       "      <td>2014-08-01</td>\n",
       "      <td>Palestinian</td>\n",
       "      <td>Israeli security forces</td>\n",
       "      <td>Killed together with five other members of his...</td>\n",
       "    </tr>\n",
       "    <tr>\n",
       "      <th>2149</th>\n",
       "      <td>Jana Bassam Salem Madi</td>\n",
       "      <td>1.0</td>\n",
       "      <td>F</td>\n",
       "      <td>2014-08-01</td>\n",
       "      <td>Palestinian</td>\n",
       "      <td>Israeli security forces</td>\n",
       "      <td>Killed together with five other members of her...</td>\n",
       "    </tr>\n",
       "    <tr>\n",
       "      <th>2165</th>\n",
       "      <td>'Abd al-Karim Ibrahim Ahmad Sheikh al-'Eid</td>\n",
       "      <td>1.0</td>\n",
       "      <td>M</td>\n",
       "      <td>2014-08-01</td>\n",
       "      <td>Palestinian</td>\n",
       "      <td>Israeli security forces</td>\n",
       "      <td>Killed together with six family members while ...</td>\n",
       "    </tr>\n",
       "    <tr>\n",
       "      <th>2283</th>\n",
       "      <td>Malak Shaker Muhammad Abu Shuqah</td>\n",
       "      <td>1.0</td>\n",
       "      <td>F</td>\n",
       "      <td>2014-07-31</td>\n",
       "      <td>Palestinian</td>\n",
       "      <td>Israeli security forces</td>\n",
       "      <td>Killed together with eight other members of he...</td>\n",
       "    </tr>\n",
       "    <tr>\n",
       "      <th>2448</th>\n",
       "      <td>Sarah Ahmad Sedqi 'Abd a-Ghafur</td>\n",
       "      <td>1.0</td>\n",
       "      <td>F</td>\n",
       "      <td>2014-07-29</td>\n",
       "      <td>Palestinian</td>\n",
       "      <td>Israeli security forces</td>\n",
       "      <td>Killed together with her mother and grandmothe...</td>\n",
       "    </tr>\n",
       "    <tr>\n",
       "      <th>2458</th>\n",
       "      <td>Muhammad Ibrahim Suliman Abu Khusah</td>\n",
       "      <td>1.0</td>\n",
       "      <td>M</td>\n",
       "      <td>2014-07-29</td>\n",
       "      <td>Palestinian</td>\n",
       "      <td>Israeli security forces</td>\n",
       "      <td>Killed together with six other members of his ...</td>\n",
       "    </tr>\n",
       "    <tr>\n",
       "      <th>2499</th>\n",
       "      <td>Jamal Muhammad Jamal 'Abd Rabo</td>\n",
       "      <td>1.0</td>\n",
       "      <td>M</td>\n",
       "      <td>2014-07-29</td>\n",
       "      <td>Palestinian</td>\n",
       "      <td>Israeli security forces</td>\n",
       "      <td>Killed with seven members of his family at the...</td>\n",
       "    </tr>\n",
       "    <tr>\n",
       "      <th>2507</th>\n",
       "      <td>Halimah Muhammad Hussni Suliman</td>\n",
       "      <td>1.0</td>\n",
       "      <td>F</td>\n",
       "      <td>2014-07-29</td>\n",
       "      <td>Palestinian</td>\n",
       "      <td>Israeli security forces</td>\n",
       "      <td>Killed with five members of her family at the ...</td>\n",
       "    </tr>\n",
       "    <tr>\n",
       "      <th>2531</th>\n",
       "      <td>'Abd al-Karim Nazmi 'Abd al-Karim Balatah</td>\n",
       "      <td>1.0</td>\n",
       "      <td>M</td>\n",
       "      <td>2014-08-01</td>\n",
       "      <td>Palestinian</td>\n",
       "      <td>Israeli security forces</td>\n",
       "      <td>Injured in his home and died of his injuries s...</td>\n",
       "    </tr>\n",
       "    <tr>\n",
       "      <th>2542</th>\n",
       "      <td>Lama Ahmad Faiz Breikah</td>\n",
       "      <td>1.0</td>\n",
       "      <td>F</td>\n",
       "      <td>2014-07-29</td>\n",
       "      <td>Palestinian</td>\n",
       "      <td>Israeli security forces</td>\n",
       "      <td>Killed together with 32 other people, includin...</td>\n",
       "    </tr>\n",
       "    <tr>\n",
       "      <th>2619</th>\n",
       "      <td>Salma Anwar Muhammad Abu Jaber</td>\n",
       "      <td>1.0</td>\n",
       "      <td>F</td>\n",
       "      <td>2014-07-29</td>\n",
       "      <td>Palestinian</td>\n",
       "      <td>Israeli security forces</td>\n",
       "      <td>Killed in her home together with 16 other memb...</td>\n",
       "    </tr>\n",
       "    <tr>\n",
       "      <th>2635</th>\n",
       "      <td>Sama Raed Muhammad Abu Jaber</td>\n",
       "      <td>1.0</td>\n",
       "      <td>F</td>\n",
       "      <td>2014-07-29</td>\n",
       "      <td>Palestinian</td>\n",
       "      <td>Israeli security forces</td>\n",
       "      <td>Killed in her grandparents' home together with...</td>\n",
       "    </tr>\n",
       "    <tr>\n",
       "      <th>2779</th>\n",
       "      <td>Samir Hussein Samir a-Najar</td>\n",
       "      <td>1.0</td>\n",
       "      <td>M</td>\n",
       "      <td>2014-07-26</td>\n",
       "      <td>Palestinian</td>\n",
       "      <td>Israeli security forces</td>\n",
       "      <td>Killed in his home together with 18 other memb...</td>\n",
       "    </tr>\n",
       "    <tr>\n",
       "      <th>2785</th>\n",
       "      <td>Ghaliah Muhammad Samir a-Najar</td>\n",
       "      <td>1.0</td>\n",
       "      <td>F</td>\n",
       "      <td>2014-07-26</td>\n",
       "      <td>Palestinian</td>\n",
       "      <td>Israeli security forces</td>\n",
       "      <td>Killed in her home together with 18 other memb...</td>\n",
       "    </tr>\n",
       "    <tr>\n",
       "      <th>2794</th>\n",
       "      <td>Amirah Hamuda Khaled Abu Shahlah</td>\n",
       "      <td>1.0</td>\n",
       "      <td>F</td>\n",
       "      <td>2014-07-26</td>\n",
       "      <td>Palestinian</td>\n",
       "      <td>Israeli security forces</td>\n",
       "      <td>Killed together with 18 other members of his f...</td>\n",
       "    </tr>\n",
       "    <tr>\n",
       "      <th>2891</th>\n",
       "      <td>Suha 'Abd Rabo Muhammad Musleh</td>\n",
       "      <td>1.0</td>\n",
       "      <td>F</td>\n",
       "      <td>2014-07-24</td>\n",
       "      <td>Palestinian</td>\n",
       "      <td>Israeli security forces</td>\n",
       "      <td>Killed together with 11 other people during th...</td>\n",
       "    </tr>\n",
       "    <tr>\n",
       "      <th>2974</th>\n",
       "      <td>'Abd a-Rahman Mahmoud 'Abd al-Fatah 'Abd a-Nabi</td>\n",
       "      <td>1.0</td>\n",
       "      <td>M</td>\n",
       "      <td>2014-07-24</td>\n",
       "      <td>Palestinian</td>\n",
       "      <td>Israeli security forces</td>\n",
       "      <td>Killed together with his three-year-old cousin...</td>\n",
       "    </tr>\n",
       "    <tr>\n",
       "      <th>3090</th>\n",
       "      <td>'Ali Mansur Hamdi al-Bshiti</td>\n",
       "      <td>1.0</td>\n",
       "      <td>M</td>\n",
       "      <td>2014-07-26</td>\n",
       "      <td>Palestinian</td>\n",
       "      <td>Israeli security forces</td>\n",
       "      <td>Injured at home with other members of his fami...</td>\n",
       "    </tr>\n",
       "    <tr>\n",
       "      <th>3153</th>\n",
       "      <td>Muna Rami 'Adel Ekhrawat</td>\n",
       "      <td>1.0</td>\n",
       "      <td>F</td>\n",
       "      <td>2014-07-22</td>\n",
       "      <td>Palestinian</td>\n",
       "      <td>Israeli security forces</td>\n",
       "      <td>Killed together with her mother, who was at an...</td>\n",
       "    </tr>\n",
       "    <tr>\n",
       "      <th>3393</th>\n",
       "      <td>Danah Muhammad Majed Daher</td>\n",
       "      <td>1.0</td>\n",
       "      <td>F</td>\n",
       "      <td>2014-07-20</td>\n",
       "      <td>Palestinian</td>\n",
       "      <td>Israeli security forces</td>\n",
       "      <td>Killed together with five other members of her...</td>\n",
       "    </tr>\n",
       "    <tr>\n",
       "      <th>3413</th>\n",
       "      <td>'Assem Khalil 'Abed 'Ammar</td>\n",
       "      <td>1.0</td>\n",
       "      <td>M</td>\n",
       "      <td>2014-07-20</td>\n",
       "      <td>Palestinian</td>\n",
       "      <td>Israeli security forces</td>\n",
       "      <td>Killed in his apartment together with his brot...</td>\n",
       "    </tr>\n",
       "    <tr>\n",
       "      <th>3514</th>\n",
       "      <td>Bisan Bassam Ahmad Abu Jame'</td>\n",
       "      <td>1.0</td>\n",
       "      <td>F</td>\n",
       "      <td>2014-07-20</td>\n",
       "      <td>Palestinian</td>\n",
       "      <td>Israeli security forces</td>\n",
       "      <td>Killed at home with 24 other members of her fa...</td>\n",
       "    </tr>\n",
       "    <tr>\n",
       "      <th>3516</th>\n",
       "      <td>Rinad Taysir Ahmad Abu Jame'</td>\n",
       "      <td>1.0</td>\n",
       "      <td>F</td>\n",
       "      <td>2014-07-20</td>\n",
       "      <td>Palestinian</td>\n",
       "      <td>Israeli security forces</td>\n",
       "      <td>Killed at home with 24 other members of his fa...</td>\n",
       "    </tr>\n",
       "    <tr>\n",
       "      <th>3662</th>\n",
       "      <td>Rizeq Ahmad 'Adnan al-Hayek</td>\n",
       "      <td>1.0</td>\n",
       "      <td>M</td>\n",
       "      <td>2014-07-18</td>\n",
       "      <td>Palestinian</td>\n",
       "      <td>Israeli security forces</td>\n",
       "      <td>Killed in his family's home along with two oth...</td>\n",
       "    </tr>\n",
       "    <tr>\n",
       "      <th>3666</th>\n",
       "      <td>Samih Na'im Musa Abu Jarad</td>\n",
       "      <td>1.0</td>\n",
       "      <td>M</td>\n",
       "      <td>2014-07-18</td>\n",
       "      <td>Palestinian</td>\n",
       "      <td>Israeli security forces</td>\n",
       "      <td>Killed at home along with seven other family m...</td>\n",
       "    </tr>\n",
       "    <tr>\n",
       "      <th>3682</th>\n",
       "      <td>Muhammad Salem Ibrahim Antiz</td>\n",
       "      <td>1.0</td>\n",
       "      <td>M</td>\n",
       "      <td>2014-07-17</td>\n",
       "      <td>Palestinian</td>\n",
       "      <td>Israeli security forces</td>\n",
       "      <td>Killed at the home of family. Two other family...</td>\n",
       "    </tr>\n",
       "    <tr>\n",
       "      <th>3779</th>\n",
       "      <td>Amal Bahaa Majed al-Batsh</td>\n",
       "      <td>1.0</td>\n",
       "      <td>F</td>\n",
       "      <td>2014-07-12</td>\n",
       "      <td>Palestinian</td>\n",
       "      <td>Israeli security forces</td>\n",
       "      <td>Killed in the bombing of her home along with a...</td>\n",
       "    </tr>\n",
       "    <tr>\n",
       "      <th>3869</th>\n",
       "      <td>Ranim Jawdat 'Abd al-Karim 'Abd a-Ghafur</td>\n",
       "      <td>1.0</td>\n",
       "      <td>F</td>\n",
       "      <td>2014-07-09</td>\n",
       "      <td>Palestinian</td>\n",
       "      <td>Israeli security forces</td>\n",
       "      <td>Killed together with his mother in their home ...</td>\n",
       "    </tr>\n",
       "    <tr>\n",
       "      <th>4098</th>\n",
       "      <td>Jomanah Salamah Ibrahim Ise'ifan</td>\n",
       "      <td>1.0</td>\n",
       "      <td>F</td>\n",
       "      <td>2012-11-18</td>\n",
       "      <td>Palestinian</td>\n",
       "      <td>Israeli security forces</td>\n",
       "      <td>Killed in his sleep while at home with other f...</td>\n",
       "    </tr>\n",
       "    <tr>\n",
       "      <th>4115</th>\n",
       "      <td>Ibrahim Muhammad Jamal a-Dalu</td>\n",
       "      <td>1.0</td>\n",
       "      <td>M</td>\n",
       "      <td>2012-11-18</td>\n",
       "      <td>Palestinian</td>\n",
       "      <td>Israeli security forces</td>\n",
       "      <td>Killed with another nine members of his family...</td>\n",
       "    </tr>\n",
       "    <tr>\n",
       "      <th>4119</th>\n",
       "      <td>Iyad Yusef Ahmad Abu Khusah</td>\n",
       "      <td>1.0</td>\n",
       "      <td>M</td>\n",
       "      <td>2012-11-18</td>\n",
       "      <td>Palestinian</td>\n",
       "      <td>Israeli security forces</td>\n",
       "      <td>Killed in the yard of his house.</td>\n",
       "    </tr>\n",
       "    <tr>\n",
       "      <th>4286</th>\n",
       "      <td>Yonatan Palmer</td>\n",
       "      <td>1.0</td>\n",
       "      <td>M</td>\n",
       "      <td>2011-09-23</td>\n",
       "      <td>Israeli</td>\n",
       "      <td>Palestinian civilians</td>\n",
       "      <td>Killed after the vehicle he was riding in was ...</td>\n",
       "    </tr>\n",
       "    <tr>\n",
       "      <th>4306</th>\n",
       "      <td>Islam Mu'taz Bassem Qreiqi'</td>\n",
       "      <td>1.0</td>\n",
       "      <td>M</td>\n",
       "      <td>2011-08-19</td>\n",
       "      <td>Palestinian</td>\n",
       "      <td>Israeli security forces</td>\n",
       "      <td>Killed while riding on a motorcycle with his f...</td>\n",
       "    </tr>\n",
       "    <tr>\n",
       "      <th>4313</th>\n",
       "      <td>Malek Khaled Hamad Sha'th</td>\n",
       "      <td>1.0</td>\n",
       "      <td>M</td>\n",
       "      <td>2011-08-18</td>\n",
       "      <td>Palestinian</td>\n",
       "      <td>Israeli security forces</td>\n",
       "      <td>Son of Khaled Sh’ath, an activist in the Popul...</td>\n",
       "    </tr>\n",
       "    <tr>\n",
       "      <th>4623</th>\n",
       "      <td>Baraa 'Ata Hassan Irmeilat</td>\n",
       "      <td>1.0</td>\n",
       "      <td>M</td>\n",
       "      <td>2009-01-15</td>\n",
       "      <td>Palestinian</td>\n",
       "      <td>Israeli security forces</td>\n",
       "      <td>Killed with his mother, brother, sister, and g...</td>\n",
       "    </tr>\n",
       "    <tr>\n",
       "      <th>4876</th>\n",
       "      <td>Fadel Allah 'Imad Hassan a-Najar</td>\n",
       "      <td>1.0</td>\n",
       "      <td>M</td>\n",
       "      <td>2009-01-12</td>\n",
       "      <td>Palestinian</td>\n",
       "      <td>Israeli security forces</td>\n",
       "      <td>Killed when riding in a car with a taxi driver...</td>\n",
       "    </tr>\n",
       "    <tr>\n",
       "      <th>4905</th>\n",
       "      <td>Tasnim Yasser Jaber a-Rafati</td>\n",
       "      <td>1.0</td>\n",
       "      <td>F</td>\n",
       "      <td>2009-01-11</td>\n",
       "      <td>Palestinian</td>\n",
       "      <td>Israeli security forces</td>\n",
       "      <td>Killed while at her grandfather's house.</td>\n",
       "    </tr>\n",
       "    <tr>\n",
       "      <th>4994</th>\n",
       "      <td>Rula Faiz Nur Salhah</td>\n",
       "      <td>1.0</td>\n",
       "      <td>F</td>\n",
       "      <td>2009-01-09</td>\n",
       "      <td>Palestinian</td>\n",
       "      <td>Israeli security forces</td>\n",
       "      <td>Killed while at home with her family.</td>\n",
       "    </tr>\n",
       "    <tr>\n",
       "      <th>5031</th>\n",
       "      <td>Yusef 'Awni 'Abd a-Rahim al-Jaru</td>\n",
       "      <td>1.0</td>\n",
       "      <td>M</td>\n",
       "      <td>2009-01-08</td>\n",
       "      <td>Palestinian</td>\n",
       "      <td>Israeli security forces</td>\n",
       "      <td>Killed with his mother while they were at home.</td>\n",
       "    </tr>\n",
       "    <tr>\n",
       "      <th>5188</th>\n",
       "      <td>Baraah Ramez Faiz a-Dayah</td>\n",
       "      <td>1.0</td>\n",
       "      <td>M</td>\n",
       "      <td>2009-01-06</td>\n",
       "      <td>Palestinian</td>\n",
       "      <td>Israeli security forces</td>\n",
       "      <td>Killed with 21 members of his family when thei...</td>\n",
       "    </tr>\n",
       "    <tr>\n",
       "      <th>5195</th>\n",
       "      <td>Hassan 'Ata Hassan 'Azzam</td>\n",
       "      <td>1.0</td>\n",
       "      <td>M</td>\n",
       "      <td>2009-01-06</td>\n",
       "      <td>Palestinian</td>\n",
       "      <td>Israeli security forces</td>\n",
       "      <td>Killed with his father and brother in the yard...</td>\n",
       "    </tr>\n",
       "    <tr>\n",
       "      <th>5337</th>\n",
       "      <td>Shahd Sa'dallah Matar Abu Halimah</td>\n",
       "      <td>1.0</td>\n",
       "      <td>F</td>\n",
       "      <td>2009-01-04</td>\n",
       "      <td>Palestinian</td>\n",
       "      <td>Israeli security forces</td>\n",
       "      <td>Burned to death along with three of her brothe...</td>\n",
       "    </tr>\n",
       "    <tr>\n",
       "      <th>5364</th>\n",
       "      <td>Farah 'Ammar Fouad al-Hilu</td>\n",
       "      <td>1.0</td>\n",
       "      <td>F</td>\n",
       "      <td>2009-01-04</td>\n",
       "      <td>Palestinian</td>\n",
       "      <td>Israeli security forces</td>\n",
       "      <td>Killed while she fled from her house with her ...</td>\n",
       "    </tr>\n",
       "    <tr>\n",
       "      <th>5502</th>\n",
       "      <td>As'ad Nizar 'Abd al-Qader Rayan</td>\n",
       "      <td>1.0</td>\n",
       "      <td>M</td>\n",
       "      <td>2009-01-01</td>\n",
       "      <td>Palestinian</td>\n",
       "      <td>Israeli security forces</td>\n",
       "      <td>Son of Nizar Rayan, a senior Hamas official. H...</td>\n",
       "    </tr>\n",
       "    <tr>\n",
       "      <th>7340</th>\n",
       "      <td>Khaled Nidal 'Abd al-Karim Wahbah</td>\n",
       "      <td>1.0</td>\n",
       "      <td>M</td>\n",
       "      <td>2006-07-10</td>\n",
       "      <td>Palestinian</td>\n",
       "      <td>Israeli security forces</td>\n",
       "      <td>Killed at home by missile fire aimed at wanted...</td>\n",
       "    </tr>\n",
       "    <tr>\n",
       "      <th>8829</th>\n",
       "      <td>Noya Zer-Aviv</td>\n",
       "      <td>1.0</td>\n",
       "      <td>F</td>\n",
       "      <td>2003-10-04</td>\n",
       "      <td>Israeli</td>\n",
       "      <td>Palestinian civilians</td>\n",
       "      <td>Killed in a suicide bombing in the Maxim resta...</td>\n",
       "    </tr>\n",
       "    <tr>\n",
       "      <th>8838</th>\n",
       "      <td>Mustafa 'Abd al-Qader Isma'il al-Badrasawi</td>\n",
       "      <td>1.0</td>\n",
       "      <td>M</td>\n",
       "      <td>2003-10-04</td>\n",
       "      <td>Palestinian</td>\n",
       "      <td>Israeli security forces</td>\n",
       "      <td>Killed while on the roof of his house, by gunf...</td>\n",
       "    </tr>\n",
       "    <tr>\n",
       "      <th>8919</th>\n",
       "      <td>Shmuel Zargari</td>\n",
       "      <td>1.0</td>\n",
       "      <td>M</td>\n",
       "      <td>2003-08-19</td>\n",
       "      <td>Israeli</td>\n",
       "      <td>Palestinian civilians</td>\n",
       "      <td>Killed in a suicide bombing on bus No. 2 on Sa...</td>\n",
       "    </tr>\n",
       "    <tr>\n",
       "      <th>9075</th>\n",
       "      <td>'Alian Bashiti</td>\n",
       "      <td>1.0</td>\n",
       "      <td>M</td>\n",
       "      <td>2003-05-07</td>\n",
       "      <td>Palestinian</td>\n",
       "      <td>Israeli security forces</td>\n",
       "      <td>Killed during an IDF incursion into Khan Yunis</td>\n",
       "    </tr>\n",
       "    <tr>\n",
       "      <th>9646</th>\n",
       "      <td>Gharam Muhammad Ibrahim Man'a</td>\n",
       "      <td>1.0</td>\n",
       "      <td>F</td>\n",
       "      <td>2002-09-26</td>\n",
       "      <td>Palestinian</td>\n",
       "      <td>Israeli security forces</td>\n",
       "      <td>Killed by a grenade fired during an IDF operat...</td>\n",
       "    </tr>\n",
       "    <tr>\n",
       "      <th>9935</th>\n",
       "      <td>Sinai Keinan</td>\n",
       "      <td>1.0</td>\n",
       "      <td>F</td>\n",
       "      <td>2002-05-27</td>\n",
       "      <td>Israeli</td>\n",
       "      <td>Palestinian civilians</td>\n",
       "      <td>Killed in a suicide bombing in the Em Hamoshav...</td>\n",
       "    </tr>\n",
       "    <tr>\n",
       "      <th>10003</th>\n",
       "      <td>Huda Muhammad Sa'id Shaluf</td>\n",
       "      <td>1.0</td>\n",
       "      <td>F</td>\n",
       "      <td>2002-04-30</td>\n",
       "      <td>Palestinian</td>\n",
       "      <td>Israeli security forces</td>\n",
       "      <td>Killed when a tank shell hit her house.</td>\n",
       "    </tr>\n",
       "    <tr>\n",
       "      <th>10577</th>\n",
       "      <td>Oriah Ilan</td>\n",
       "      <td>1.0</td>\n",
       "      <td>F</td>\n",
       "      <td>2002-03-02</td>\n",
       "      <td>Israeli</td>\n",
       "      <td>Palestinian civilians</td>\n",
       "      <td>Killed in a suicide bombing in the Beit Yisrae...</td>\n",
       "    </tr>\n",
       "  </tbody>\n",
       "</table>\n",
       "</div>"
      ],
      "text/plain": [
       "                                                  name  age gender  \\\n",
       "815                       Firas Rasmi Salem a-Sawarkah  1.0      M   \n",
       "1053                  Bayan Muhammad Kamel Abu Khamash  1.0      F   \n",
       "1600                     'Ali Sa'ed Muhammad Dawabsheh  1.0      M   \n",
       "1691                    Zeinah Bilal Sabri Abu Taqiyah  1.0      F   \n",
       "1703                     Hadi Hayel Shehdeh Abu Dahruj  1.0      M   \n",
       "1948                   Maria Muhammad 'Awwad Abu Jazar  1.0      F   \n",
       "2148                            Yusef Ahmad Salem Madi  1.0      M   \n",
       "2149                            Jana Bassam Salem Madi  1.0      F   \n",
       "2165        'Abd al-Karim Ibrahim Ahmad Sheikh al-'Eid  1.0      M   \n",
       "2283                  Malak Shaker Muhammad Abu Shuqah  1.0      F   \n",
       "2448                   Sarah Ahmad Sedqi 'Abd a-Ghafur  1.0      F   \n",
       "2458               Muhammad Ibrahim Suliman Abu Khusah  1.0      M   \n",
       "2499                    Jamal Muhammad Jamal 'Abd Rabo  1.0      M   \n",
       "2507                   Halimah Muhammad Hussni Suliman  1.0      F   \n",
       "2531         'Abd al-Karim Nazmi 'Abd al-Karim Balatah  1.0      M   \n",
       "2542                           Lama Ahmad Faiz Breikah  1.0      F   \n",
       "2619                    Salma Anwar Muhammad Abu Jaber  1.0      F   \n",
       "2635                      Sama Raed Muhammad Abu Jaber  1.0      F   \n",
       "2779                       Samir Hussein Samir a-Najar  1.0      M   \n",
       "2785                    Ghaliah Muhammad Samir a-Najar  1.0      F   \n",
       "2794                  Amirah Hamuda Khaled Abu Shahlah  1.0      F   \n",
       "2891                    Suha 'Abd Rabo Muhammad Musleh  1.0      F   \n",
       "2974   'Abd a-Rahman Mahmoud 'Abd al-Fatah 'Abd a-Nabi  1.0      M   \n",
       "3090                       'Ali Mansur Hamdi al-Bshiti  1.0      M   \n",
       "3153                          Muna Rami 'Adel Ekhrawat  1.0      F   \n",
       "3393                        Danah Muhammad Majed Daher  1.0      F   \n",
       "3413                        'Assem Khalil 'Abed 'Ammar  1.0      M   \n",
       "3514                      Bisan Bassam Ahmad Abu Jame'  1.0      F   \n",
       "3516                      Rinad Taysir Ahmad Abu Jame'  1.0      F   \n",
       "3662                       Rizeq Ahmad 'Adnan al-Hayek  1.0      M   \n",
       "3666                        Samih Na'im Musa Abu Jarad  1.0      M   \n",
       "3682                      Muhammad Salem Ibrahim Antiz  1.0      M   \n",
       "3779                         Amal Bahaa Majed al-Batsh  1.0      F   \n",
       "3869          Ranim Jawdat 'Abd al-Karim 'Abd a-Ghafur  1.0      F   \n",
       "4098                  Jomanah Salamah Ibrahim Ise'ifan  1.0      F   \n",
       "4115                     Ibrahim Muhammad Jamal a-Dalu  1.0      M   \n",
       "4119                       Iyad Yusef Ahmad Abu Khusah  1.0      M   \n",
       "4286                                    Yonatan Palmer  1.0      M   \n",
       "4306                       Islam Mu'taz Bassem Qreiqi'  1.0      M   \n",
       "4313                         Malek Khaled Hamad Sha'th  1.0      M   \n",
       "4623                        Baraa 'Ata Hassan Irmeilat  1.0      M   \n",
       "4876                  Fadel Allah 'Imad Hassan a-Najar  1.0      M   \n",
       "4905                      Tasnim Yasser Jaber a-Rafati  1.0      F   \n",
       "4994                              Rula Faiz Nur Salhah  1.0      F   \n",
       "5031                  Yusef 'Awni 'Abd a-Rahim al-Jaru  1.0      M   \n",
       "5188                         Baraah Ramez Faiz a-Dayah  1.0      M   \n",
       "5195                         Hassan 'Ata Hassan 'Azzam  1.0      M   \n",
       "5337                 Shahd Sa'dallah Matar Abu Halimah  1.0      F   \n",
       "5364                        Farah 'Ammar Fouad al-Hilu  1.0      F   \n",
       "5502                   As'ad Nizar 'Abd al-Qader Rayan  1.0      M   \n",
       "7340                 Khaled Nidal 'Abd al-Karim Wahbah  1.0      M   \n",
       "8829                                     Noya Zer-Aviv  1.0      F   \n",
       "8838        Mustafa 'Abd al-Qader Isma'il al-Badrasawi  1.0      M   \n",
       "8919                                    Shmuel Zargari  1.0      M   \n",
       "9075                                    'Alian Bashiti  1.0      M   \n",
       "9646                     Gharam Muhammad Ibrahim Man'a  1.0      F   \n",
       "9935                                      Sinai Keinan  1.0      F   \n",
       "10003                       Huda Muhammad Sa'id Shaluf  1.0      F   \n",
       "10577                                       Oriah Ilan  1.0      F   \n",
       "\n",
       "      date_of_death  citizenship                killed_by  \\\n",
       "815      2019-11-14  Palestinian  Israeli security forces   \n",
       "1053     2018-08-09  Palestinian  Israeli security forces   \n",
       "1600     2015-07-31  Palestinian        Israeli civilians   \n",
       "1691     2014-08-24  Palestinian  Israeli security forces   \n",
       "1703     2014-08-23  Palestinian  Israeli security forces   \n",
       "1948     2014-08-03  Palestinian  Israeli security forces   \n",
       "2148     2014-08-01  Palestinian  Israeli security forces   \n",
       "2149     2014-08-01  Palestinian  Israeli security forces   \n",
       "2165     2014-08-01  Palestinian  Israeli security forces   \n",
       "2283     2014-07-31  Palestinian  Israeli security forces   \n",
       "2448     2014-07-29  Palestinian  Israeli security forces   \n",
       "2458     2014-07-29  Palestinian  Israeli security forces   \n",
       "2499     2014-07-29  Palestinian  Israeli security forces   \n",
       "2507     2014-07-29  Palestinian  Israeli security forces   \n",
       "2531     2014-08-01  Palestinian  Israeli security forces   \n",
       "2542     2014-07-29  Palestinian  Israeli security forces   \n",
       "2619     2014-07-29  Palestinian  Israeli security forces   \n",
       "2635     2014-07-29  Palestinian  Israeli security forces   \n",
       "2779     2014-07-26  Palestinian  Israeli security forces   \n",
       "2785     2014-07-26  Palestinian  Israeli security forces   \n",
       "2794     2014-07-26  Palestinian  Israeli security forces   \n",
       "2891     2014-07-24  Palestinian  Israeli security forces   \n",
       "2974     2014-07-24  Palestinian  Israeli security forces   \n",
       "3090     2014-07-26  Palestinian  Israeli security forces   \n",
       "3153     2014-07-22  Palestinian  Israeli security forces   \n",
       "3393     2014-07-20  Palestinian  Israeli security forces   \n",
       "3413     2014-07-20  Palestinian  Israeli security forces   \n",
       "3514     2014-07-20  Palestinian  Israeli security forces   \n",
       "3516     2014-07-20  Palestinian  Israeli security forces   \n",
       "3662     2014-07-18  Palestinian  Israeli security forces   \n",
       "3666     2014-07-18  Palestinian  Israeli security forces   \n",
       "3682     2014-07-17  Palestinian  Israeli security forces   \n",
       "3779     2014-07-12  Palestinian  Israeli security forces   \n",
       "3869     2014-07-09  Palestinian  Israeli security forces   \n",
       "4098     2012-11-18  Palestinian  Israeli security forces   \n",
       "4115     2012-11-18  Palestinian  Israeli security forces   \n",
       "4119     2012-11-18  Palestinian  Israeli security forces   \n",
       "4286     2011-09-23      Israeli    Palestinian civilians   \n",
       "4306     2011-08-19  Palestinian  Israeli security forces   \n",
       "4313     2011-08-18  Palestinian  Israeli security forces   \n",
       "4623     2009-01-15  Palestinian  Israeli security forces   \n",
       "4876     2009-01-12  Palestinian  Israeli security forces   \n",
       "4905     2009-01-11  Palestinian  Israeli security forces   \n",
       "4994     2009-01-09  Palestinian  Israeli security forces   \n",
       "5031     2009-01-08  Palestinian  Israeli security forces   \n",
       "5188     2009-01-06  Palestinian  Israeli security forces   \n",
       "5195     2009-01-06  Palestinian  Israeli security forces   \n",
       "5337     2009-01-04  Palestinian  Israeli security forces   \n",
       "5364     2009-01-04  Palestinian  Israeli security forces   \n",
       "5502     2009-01-01  Palestinian  Israeli security forces   \n",
       "7340     2006-07-10  Palestinian  Israeli security forces   \n",
       "8829     2003-10-04      Israeli    Palestinian civilians   \n",
       "8838     2003-10-04  Palestinian  Israeli security forces   \n",
       "8919     2003-08-19      Israeli    Palestinian civilians   \n",
       "9075     2003-05-07  Palestinian  Israeli security forces   \n",
       "9646     2002-09-26  Palestinian  Israeli security forces   \n",
       "9935     2002-05-27      Israeli    Palestinian civilians   \n",
       "10003    2002-04-30  Palestinian  Israeli security forces   \n",
       "10577    2002-03-02      Israeli    Palestinian civilians   \n",
       "\n",
       "                                                   notes  \n",
       "815    Killed along with his parents and two of his m...  \n",
       "1053   Killed with her mother, who was in advanced st...  \n",
       "1600   Killed when his house was torched. His parents...  \n",
       "1691   Killed seated in a swing at the entrance to he...  \n",
       "1703   Killed with his parents and brother when their...  \n",
       "1948   Killed together with her mother and brother in...  \n",
       "2148   Killed together with five other members of his...  \n",
       "2149   Killed together with five other members of her...  \n",
       "2165   Killed together with six family members while ...  \n",
       "2283   Killed together with eight other members of he...  \n",
       "2448   Killed together with her mother and grandmothe...  \n",
       "2458   Killed together with six other members of his ...  \n",
       "2499   Killed with seven members of his family at the...  \n",
       "2507   Killed with five members of her family at the ...  \n",
       "2531   Injured in his home and died of his injuries s...  \n",
       "2542   Killed together with 32 other people, includin...  \n",
       "2619   Killed in her home together with 16 other memb...  \n",
       "2635   Killed in her grandparents' home together with...  \n",
       "2779   Killed in his home together with 18 other memb...  \n",
       "2785   Killed in her home together with 18 other memb...  \n",
       "2794   Killed together with 18 other members of his f...  \n",
       "2891   Killed together with 11 other people during th...  \n",
       "2974   Killed together with his three-year-old cousin...  \n",
       "3090   Injured at home with other members of his fami...  \n",
       "3153   Killed together with her mother, who was at an...  \n",
       "3393   Killed together with five other members of her...  \n",
       "3413   Killed in his apartment together with his brot...  \n",
       "3514   Killed at home with 24 other members of her fa...  \n",
       "3516   Killed at home with 24 other members of his fa...  \n",
       "3662   Killed in his family's home along with two oth...  \n",
       "3666   Killed at home along with seven other family m...  \n",
       "3682   Killed at the home of family. Two other family...  \n",
       "3779   Killed in the bombing of her home along with a...  \n",
       "3869   Killed together with his mother in their home ...  \n",
       "4098   Killed in his sleep while at home with other f...  \n",
       "4115   Killed with another nine members of his family...  \n",
       "4119                    Killed in the yard of his house.  \n",
       "4286   Killed after the vehicle he was riding in was ...  \n",
       "4306   Killed while riding on a motorcycle with his f...  \n",
       "4313   Son of Khaled Sh’ath, an activist in the Popul...  \n",
       "4623   Killed with his mother, brother, sister, and g...  \n",
       "4876   Killed when riding in a car with a taxi driver...  \n",
       "4905            Killed while at her grandfather's house.  \n",
       "4994               Killed while at home with her family.  \n",
       "5031     Killed with his mother while they were at home.  \n",
       "5188   Killed with 21 members of his family when thei...  \n",
       "5195   Killed with his father and brother in the yard...  \n",
       "5337   Burned to death along with three of her brothe...  \n",
       "5364   Killed while she fled from her house with her ...  \n",
       "5502   Son of Nizar Rayan, a senior Hamas official. H...  \n",
       "7340   Killed at home by missile fire aimed at wanted...  \n",
       "8829   Killed in a suicide bombing in the Maxim resta...  \n",
       "8838   Killed while on the roof of his house, by gunf...  \n",
       "8919   Killed in a suicide bombing on bus No. 2 on Sa...  \n",
       "9075      Killed during an IDF incursion into Khan Yunis  \n",
       "9646   Killed by a grenade fired during an IDF operat...  \n",
       "9935   Killed in a suicide bombing in the Em Hamoshav...  \n",
       "10003            Killed when a tank shell hit her house.  \n",
       "10577  Killed in a suicide bombing in the Beit Yisrae...  "
      ]
     },
     "execution_count": 17,
     "metadata": {},
     "output_type": "execute_result"
    }
   ],
   "source": [
    "min=df.loc[df[\"age\"]==df[\"age\"].min()]\n",
    "print(\"Total no. of Infants died:\",min[\"name\"].count(),\"\\n\",min[\"gender\"].value_counts())\n",
    "min[[\"name\", \"age\",\"gender\", \"date_of_death\", \"citizenship\", \"killed_by\", \"notes\"]]"
   ]
  },
  {
   "cell_type": "markdown",
   "id": "80a58fd7",
   "metadata": {
    "id": "80a58fd7"
   },
   "source": [
    "### The youngest who died were  30 males and 29 female (total 59)  Infants with age upto 1 years old. Maximum among them were Palestinians who got killed by \"Israeli security forces\"."
   ]
  },
  {
   "cell_type": "code",
   "execution_count": 18,
   "id": "09f4d09b",
   "metadata": {
    "id": "09f4d09b",
    "outputId": "53b1a93a-50b1-45ca-83d4-905474aa729f",
    "scrolled": false
   },
   "outputs": [
    {
     "name": "stdout",
     "output_type": "stream",
     "text": [
      "citizenship\n",
      "Palestinian    10092\n",
      "Israeli         1029\n",
      "Jordanian          2\n",
      "American           1\n",
      "dtype: int64\n"
     ]
    },
    {
     "data": {
      "image/png": "[encoded data removed]",
      "text/plain": [
       "<Figure size 640x480 with 1 Axes>"
      ]
     },
     "metadata": {},
     "output_type": "display_data"
    }
   ],
   "source": [
    "df[\"citizenship\"].value_counts().plot(kind=\"pie\", colors=[\"r\",\"b\",\"g\",\"pink\"], autopct=\"%1.2f%%\",explode=[0.1,0,0,0]\n",
    ", startangle=60)\n",
    "plt.title(\"Fatalities based on Citizenship\")\n",
    "plt.legend(df[\"citizenship\"].unique(), fontsize=8, loc= \"upper left\")\n",
    "print(df[[\"citizenship\"]].value_counts())\n",
    "plt.show()"
   ]
  },
  {
   "cell_type": "markdown",
   "id": "de605744",
   "metadata": {
    "id": "de605744"
   },
   "source": [
    "### Here,we can see that:-\n",
    "#### * Maximum deaths were Palestinians which amount to 10,092.\n",
    "#### * Followed by Israeli which counts to 1,029\n",
    "#### * 2 Jordanian and 1 American also died."
   ]
  },
  {
   "cell_type": "markdown",
   "id": "e515e8ec",
   "metadata": {
    "id": "e515e8ec"
   },
   "source": [
    "# Chapter 3: Hostilities Participation Analysis"
   ]
  },
  {
   "cell_type": "code",
   "execution_count": 19,
   "id": "0d83fa63",
   "metadata": {
    "id": "0d83fa63",
    "outputId": "0e7e4e83-99e2-4b31-9fc2-84e893e66037"
   },
   "outputs": [
    {
     "data": {
      "text/plain": [
       "took_part_in_the_hostilities\n",
       "No                              4653\n",
       "Yes                             3467\n",
       "Israelis                         771\n",
       "Unknown                          603\n",
       "Object of targeted killing       200\n",
       "dtype: int64"
      ]
     },
     "execution_count": 19,
     "metadata": {},
     "output_type": "execute_result"
    }
   ],
   "source": [
    "df[[\"took_part_in_the_hostilities\"]].value_counts()"
   ]
  },
  {
   "cell_type": "markdown",
   "id": "11847e6a",
   "metadata": {
    "id": "11847e6a"
   },
   "source": [
    "### * Here it is noticed that most of the time, the victim is killed without any Hostilities Participation.\n",
    "#### * But in many cases there is a huge involvement of victims in Hostilities before Dying.\n",
    "#### * There are also 771 incidents where Israelis were involved in Hostilities .\n",
    "#### * There are 200 incidents of Target Killings who were hostile too."
   ]
  },
  {
   "cell_type": "code",
   "execution_count": 20,
   "id": "6c46b26d",
   "metadata": {
    "id": "6c46b26d",
    "outputId": "1210780c-cc41-461d-d1ff-726d89e6e545"
   },
   "outputs": [
    {
     "data": {
      "image/png": "[encoded data removed]",
      "text/plain": [
       "<Figure size 640x480 with 1 Axes>"
      ]
     },
     "metadata": {},
     "output_type": "display_data"
    }
   ],
   "source": [
    "d=df[\"took_part_in_the_hostilities\"].value_counts().tolist()\n",
    "v=df[\"took_part_in_the_hostilities\"].dropna().unique().tolist()\n",
    "sns.barplot(x=v,y=d, edgecolor=\"black\")\n",
    "plt.title(\"Hostilities Participation\")\n",
    "plt.xlabel(\"Hostilities\")\n",
    "plt.ylabel(\"No. of Incidents\")\n",
    "plt.xticks(rotation = 10)\n",
    "plt.grid(linestyle=\"dashed\")\n",
    "plt.tight_layout()\n",
    "plt.show()"
   ]
  },
  {
   "cell_type": "code",
   "execution_count": 21,
   "id": "0b93201c",
   "metadata": {
    "id": "0b93201c",
    "outputId": "945bd29f-dcdc-4c6a-90a0-af0fadca3789"
   },
   "outputs": [
    {
     "data": {
      "text/html": [
       "<div>\n",
       "<style scoped>\n",
       "    .dataframe tbody tr th:only-of-type {\n",
       "        vertical-align: middle;\n",
       "    }\n",
       "\n",
       "    .dataframe tbody tr th {\n",
       "        vertical-align: top;\n",
       "    }\n",
       "\n",
       "    .dataframe thead th {\n",
       "        text-align: right;\n",
       "    }\n",
       "</style>\n",
       "<table border=\"1\" class=\"dataframe\">\n",
       "  <thead>\n",
       "    <tr style=\"text-align: right;\">\n",
       "      <th></th>\n",
       "      <th>name</th>\n",
       "      <th>age</th>\n",
       "      <th>gender</th>\n",
       "      <th>date_of_event</th>\n",
       "      <th>date_of_death</th>\n",
       "      <th>took_part_in_the_hostilities</th>\n",
       "      <th>event_location_region</th>\n",
       "    </tr>\n",
       "  </thead>\n",
       "  <tbody>\n",
       "    <tr>\n",
       "      <th>94</th>\n",
       "      <td>Iyad al-'Abed al-Hasani</td>\n",
       "      <td>51.0</td>\n",
       "      <td>M</td>\n",
       "      <td>2023-05-12</td>\n",
       "      <td>2023-05-12</td>\n",
       "      <td>Yes</td>\n",
       "      <td>Gaza Strip</td>\n",
       "    </tr>\n",
       "    <tr>\n",
       "      <th>95</th>\n",
       "      <td>Muhammad Walid Muhammad 'Abd al-'Aal</td>\n",
       "      <td>33.0</td>\n",
       "      <td>M</td>\n",
       "      <td>2023-05-12</td>\n",
       "      <td>2023-05-12</td>\n",
       "      <td>Yes</td>\n",
       "      <td>Gaza Strip</td>\n",
       "    </tr>\n",
       "    <tr>\n",
       "      <th>96</th>\n",
       "      <td>'Ali Hassan Muhammad Ghali</td>\n",
       "      <td>49.0</td>\n",
       "      <td>M</td>\n",
       "      <td>2023-05-11</td>\n",
       "      <td>2023-05-11</td>\n",
       "      <td>Yes</td>\n",
       "      <td>Gaza Strip</td>\n",
       "    </tr>\n",
       "    <tr>\n",
       "      <th>98</th>\n",
       "      <td>Mahmoud Walid Mahmoud 'Abd al-Jawad</td>\n",
       "      <td>25.0</td>\n",
       "      <td>M</td>\n",
       "      <td>2023-05-11</td>\n",
       "      <td>2023-05-11</td>\n",
       "      <td>Yes</td>\n",
       "      <td>Gaza Strip</td>\n",
       "    </tr>\n",
       "    <tr>\n",
       "      <th>100</th>\n",
       "      <td>Ahmad Mahmoud Hamdan Abu Daqah</td>\n",
       "      <td>43.0</td>\n",
       "      <td>M</td>\n",
       "      <td>2023-05-11</td>\n",
       "      <td>2023-05-11</td>\n",
       "      <td>Yes</td>\n",
       "      <td>Gaza Strip</td>\n",
       "    </tr>\n",
       "    <tr>\n",
       "      <th>...</th>\n",
       "      <td>...</td>\n",
       "      <td>...</td>\n",
       "      <td>...</td>\n",
       "      <td>...</td>\n",
       "      <td>...</td>\n",
       "      <td>...</td>\n",
       "      <td>...</td>\n",
       "    </tr>\n",
       "    <tr>\n",
       "      <th>11115</th>\n",
       "      <td>Hanan Levy</td>\n",
       "      <td>33.0</td>\n",
       "      <td>M</td>\n",
       "      <td>2000-11-02</td>\n",
       "      <td>2000-11-02</td>\n",
       "      <td>Israelis</td>\n",
       "      <td>Israel</td>\n",
       "    </tr>\n",
       "    <tr>\n",
       "      <th>11116</th>\n",
       "      <td>Eish Kodesh Gilmor</td>\n",
       "      <td>25.0</td>\n",
       "      <td>M</td>\n",
       "      <td>2000-10-30</td>\n",
       "      <td>2000-10-30</td>\n",
       "      <td>Israelis</td>\n",
       "      <td>West Bank</td>\n",
       "    </tr>\n",
       "    <tr>\n",
       "      <th>11118</th>\n",
       "      <td>Marik Gavrilov</td>\n",
       "      <td>25.0</td>\n",
       "      <td>M</td>\n",
       "      <td>2000-10-27</td>\n",
       "      <td>2000-10-27</td>\n",
       "      <td>Israelis</td>\n",
       "      <td>West Bank</td>\n",
       "    </tr>\n",
       "    <tr>\n",
       "      <th>11119</th>\n",
       "      <td>Binyamin Herling</td>\n",
       "      <td>64.0</td>\n",
       "      <td>M</td>\n",
       "      <td>2000-10-19</td>\n",
       "      <td>2000-10-19</td>\n",
       "      <td>Israelis</td>\n",
       "      <td>West Bank</td>\n",
       "    </tr>\n",
       "    <tr>\n",
       "      <th>11121</th>\n",
       "      <td>Hillel Lieberman</td>\n",
       "      <td>36.0</td>\n",
       "      <td>M</td>\n",
       "      <td>2000-10-07</td>\n",
       "      <td>2000-10-07</td>\n",
       "      <td>Israelis</td>\n",
       "      <td>West Bank</td>\n",
       "    </tr>\n",
       "  </tbody>\n",
       "</table>\n",
       "<p>2331 rows × 7 columns</p>\n",
       "</div>"
      ],
      "text/plain": [
       "                                       name   age gender date_of_event  \\\n",
       "94                  Iyad al-'Abed al-Hasani  51.0      M    2023-05-12   \n",
       "95     Muhammad Walid Muhammad 'Abd al-'Aal  33.0      M    2023-05-12   \n",
       "96               'Ali Hassan Muhammad Ghali  49.0      M    2023-05-11   \n",
       "98      Mahmoud Walid Mahmoud 'Abd al-Jawad  25.0      M    2023-05-11   \n",
       "100          Ahmad Mahmoud Hamdan Abu Daqah  43.0      M    2023-05-11   \n",
       "...                                     ...   ...    ...           ...   \n",
       "11115                            Hanan Levy  33.0      M    2000-11-02   \n",
       "11116                    Eish Kodesh Gilmor  25.0      M    2000-10-30   \n",
       "11118                        Marik Gavrilov  25.0      M    2000-10-27   \n",
       "11119                      Binyamin Herling  64.0      M    2000-10-19   \n",
       "11121                      Hillel Lieberman  36.0      M    2000-10-07   \n",
       "\n",
       "      date_of_death took_part_in_the_hostilities event_location_region  \n",
       "94       2023-05-12                          Yes            Gaza Strip  \n",
       "95       2023-05-12                          Yes            Gaza Strip  \n",
       "96       2023-05-11                          Yes            Gaza Strip  \n",
       "98       2023-05-11                          Yes            Gaza Strip  \n",
       "100      2023-05-11                          Yes            Gaza Strip  \n",
       "...             ...                          ...                   ...  \n",
       "11115    2000-11-02                     Israelis                Israel  \n",
       "11116    2000-10-30                     Israelis             West Bank  \n",
       "11118    2000-10-27                     Israelis             West Bank  \n",
       "11119    2000-10-19                     Israelis             West Bank  \n",
       "11121    2000-10-07                     Israelis             West Bank  \n",
       "\n",
       "[2331 rows x 7 columns]"
      ]
     },
     "execution_count": 21,
     "metadata": {},
     "output_type": "execute_result"
    }
   ],
   "source": [
    "hstg=df.loc[df[\"took_part_in_the_hostilities\"]!=\"No\"].dropna()\n",
    "hstd=hstg[[\"name\",\"age\",\"gender\",\"date_of_event\",\"date_of_death\",\"took_part_in_the_hostilities\",\"event_location_region\"]]\n",
    "hstd"
   ]
  },
  {
   "cell_type": "markdown",
   "id": "11744308",
   "metadata": {
    "id": "11744308"
   },
   "source": [
    "### Here is the filtered data of people who participated in the hostilities."
   ]
  },
  {
   "cell_type": "code",
   "execution_count": 22,
   "id": "c0a4a4ee",
   "metadata": {
    "id": "c0a4a4ee",
    "outputId": "9216484a-063b-4a26-cb06-74cfe7db7e44"
   },
   "outputs": [
    {
     "data": {
      "text/plain": [
       "event_location_region\n",
       "Gaza Strip               1798\n",
       "Israel                    391\n",
       "West Bank                 142\n",
       "dtype: int64"
      ]
     },
     "execution_count": 22,
     "metadata": {},
     "output_type": "execute_result"
    }
   ],
   "source": [
    "hstd[[\"event_location_region\"]].value_counts()"
   ]
  },
  {
   "cell_type": "markdown",
   "id": "d4b76b8a",
   "metadata": {
    "id": "d4b76b8a"
   },
   "source": [
    "### Maximum number of Hostilities Participation incidents are from Gaza Strip which is 1798."
   ]
  },
  {
   "cell_type": "markdown",
   "id": "d0d1de05",
   "metadata": {
    "id": "d0d1de05"
   },
   "source": [
    "# Chapter 4: Injury Analysis"
   ]
  },
  {
   "cell_type": "code",
   "execution_count": 23,
   "id": "44e6984d",
   "metadata": {
    "id": "44e6984d",
    "outputId": "59b6f37c-e490-43c3-94a7-606bdabd6d4c"
   },
   "outputs": [
    {
     "data": {
      "text/plain": [
       "gunfire                         9849\n",
       "explosion                        555\n",
       "shelling                         311\n",
       "stabbing                          48\n",
       "house demolition                  25\n",
       "hit by a vehicle                  18\n",
       "beating                            9\n",
       "stones throwing                    6\n",
       "being bludgeoned with an axe       4\n",
       "fire                               4\n",
       "physically assaulted               2\n",
       "physical assault                   1\n",
       "Strangulation                      1\n",
       "Name: type_of_injury, dtype: int64"
      ]
     },
     "execution_count": 23,
     "metadata": {},
     "output_type": "execute_result"
    }
   ],
   "source": [
    "df[\"type_of_injury\"].value_counts()"
   ]
  },
  {
   "cell_type": "markdown",
   "id": "26b9ccef",
   "metadata": {
    "id": "26b9ccef"
   },
   "source": [
    "### There are 13 different types of injuries noticed in people who were killed. But maximum were killed in Gunfire and Explosions."
   ]
  },
  {
   "cell_type": "code",
   "execution_count": 24,
   "id": "a81963c5",
   "metadata": {
    "id": "a81963c5",
    "outputId": "50f46342-2b4b-481f-d32c-5df1c3366d30"
   },
   "outputs": [
    {
     "data": {
      "image/png": "[encoded data removed]",
      "text/plain": [
       "<Figure size 640x480 with 1 Axes>"
      ]
     },
     "metadata": {},
     "output_type": "display_data"
    }
   ],
   "source": [
    "maj=df[\"type_of_injury\"].value_counts().head(3)\n",
    "l=df[\"type_of_injury\"].value_counts().tail(10).sum()\n",
    "maj.loc['others']=l\n",
    "maj.plot(kind=\"pie\", explode=[0.1,0,0,0], startangle=60, fontsize=10, autopct=\"%1.2f%%\", pctdistance=1.1, labeldistance=1.3)\n",
    "plt.legend( )\n",
    "plt.title(\"People Killed in\")\n",
    "plt.tight_layout()\n",
    "plt.legend([\"Gunfire\",\"Explosion\",\"Shelling\",\"Others\"], fontsize=9)\n",
    "plt.show()"
   ]
  },
  {
   "cell_type": "markdown",
   "id": "51b4885d",
   "metadata": {
    "id": "51b4885d"
   },
   "source": [
    "### With this pie chart we can see that more than 90% people died in Gunfires and 5% in Explosions."
   ]
  },
  {
   "cell_type": "markdown",
   "id": "56d75122",
   "metadata": {
    "id": "56d75122"
   },
   "source": [
    "# Chapter 5: Weapons Used"
   ]
  },
  {
   "cell_type": "code",
   "execution_count": 25,
   "id": "367f3d97",
   "metadata": {
    "id": "367f3d97",
    "outputId": "e8279975-e474-4bae-b7e2-54f8dd01cd85"
   },
   "outputs": [
    {
     "data": {
      "text/plain": [
       "missile                        2877\n",
       "live ammunition                1514\n",
       "shell                           675\n",
       "explosive belt                  326\n",
       "bomb                            249\n",
       "mortar fire                      51\n",
       "knife                            37\n",
       "flechette shells                 22\n",
       "rubber-coated metal bullets      19\n",
       "0.22-caliber bullets             16\n",
       "phosphorus shell                 16\n",
       "Qassam rocket                    15\n",
       "car bomb                         15\n",
       "teargas canister                 13\n",
       "rocket                           12\n",
       "grad rocket                       7\n",
       "sponge rounds                     2\n",
       "grenade                           2\n",
       "flare bomb                        1\n",
       "stun grenade                      1\n",
       "rock                              1\n",
       "Name: ammunition, dtype: int64"
      ]
     },
     "execution_count": 25,
     "metadata": {},
     "output_type": "execute_result"
    }
   ],
   "source": [
    "df[\"ammunition\"].value_counts()"
   ]
  },
  {
   "cell_type": "markdown",
   "id": "be2fd6d0",
   "metadata": {
    "id": "be2fd6d0"
   },
   "source": [
    "#### When it comes to data of Weapons used, we found that maximum of incidents used Missiles which counts 2,877.\n",
    "#### But previously we noticed that 90% of deaths were due to gunfire and here we notice that Count of using is maximum individually.\n",
    "#### This is due to the classification of Gunfire data into Live Ammunitions, shells, rubber-coated metal bullets , 0.22-caliber bullets and flechette shells."
   ]
  },
  {
   "cell_type": "code",
   "execution_count": 26,
   "id": "a4e16959",
   "metadata": {
    "id": "a4e16959",
    "outputId": "ad2e786b-f014-4e43-a6fb-a77b9d7538b7"
   },
   "outputs": [
    {
     "data": {
      "image/png": "[encoded data removed]",
      "text/plain": [
       "<Figure size 640x480 with 1 Axes>"
      ]
     },
     "metadata": {},
     "output_type": "display_data"
    },
    {
     "data": {
      "image/png": "[encoded data removed]",
      "text/plain": [
       "<Figure size 640x480 with 1 Axes>"
      ]
     },
     "metadata": {},
     "output_type": "display_data"
    }
   ],
   "source": [
    "plt.figure(1)\n",
    "wu=df[\"ammunition\"].value_counts().head(5)\n",
    "ot=df[\"ammunition\"].value_counts().tail(16).sum()\n",
    "wu.loc[\"Others\"]=ot\n",
    "labe=[\"Missile\",\"Live Ammunition\",\"Shell\",\"Explosive Belt\",\"Bomb\", \"Others\"]\n",
    "plt.pie(wu, labels=labe, startangle=85, autopct=\"%1.2f%%\", pctdistance=0.95, labeldistance=1.2, shadow= True)\n",
    "plt.legend(labe, loc=\"lower left\", fontsize=9)\n",
    "plt.title(\"Ammunition Used\")\n",
    "\n",
    "plt.figure(2)\n",
    "wu.plot(kind=\"bar\", color=[\"b\",\"orange\",\"g\",\"red\",\"purple\",\"brown\"],edgecolor=\"black\")\n",
    "plt.grid(linestyle=\"dashed\")\n",
    "plt.xlabel(\"Ammunition Used\")\n",
    "plt.ylabel(\"No. of Incidents\")\n",
    "plt.show()"
   ]
  },
  {
   "cell_type": "markdown",
   "id": "ea23fe1b",
   "metadata": {
    "id": "ea23fe1b"
   },
   "source": [
    "#### Here is the Graphical representation of the Ammunition Data."
   ]
  }
 ],
 "metadata": {
  "colab": {
   "provenance": []
  },
  "kernelspec": {
   "display_name": "Python 3 (ipykernel)",
   "language": "python",
   "name": "python3"
  },
  "language_info": {
   "codemirror_mode": {
    "name": "ipython",
    "version": 3
   },
   "file_extension": ".py",
   "mimetype": "text/x-python",
   "name": "python",
   "nbconvert_exporter": "python",
   "pygments_lexer": "ipython3",
   "version": "3.11.4"
  }
 },
 "nbformat": 4,
 "nbformat_minor": 5
}
